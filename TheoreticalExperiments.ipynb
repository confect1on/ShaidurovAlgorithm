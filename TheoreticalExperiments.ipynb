{
 "cells": [
  {
   "cell_type": "code",
   "id": "initial_id",
   "metadata": {
    "collapsed": true,
    "ExecuteTime": {
     "end_time": "2024-06-03T12:34:42.775420Z",
     "start_time": "2024-06-03T12:34:42.765587Z"
    }
   },
   "source": [
    "import matplotlib.pyplot as plt\n",
    "import numpy as np\n",
    "import pandas as pd\n",
    "from collections import Counter\n",
    "from ShaidurovAlgorithm import ShaidurovAlgorithm\n",
    "import uuid"
   ],
   "outputs": [],
   "execution_count": 38
  },
  {
   "metadata": {
    "ExecuteTime": {
     "end_time": "2024-06-03T12:34:42.784652Z",
     "start_time": "2024-06-03T12:34:42.775420Z"
    }
   },
   "cell_type": "code",
   "source": [
    "alphabet = ['A', 'C', 'G', 'T']\n",
    "\n",
    "def calculateRo(a: str, b: str):\n",
    "    aCounter = Counter(a)\n",
    "    bCounter = Counter(b)\n",
    "    ro = 0\n",
    "    for letter in alphabet:\n",
    "        ro += (aCounter[letter] / len(a)) * (bCounter[letter] / len(b))\n",
    "    return ro"
   ],
   "id": "5a2502dc62abcc20",
   "outputs": [],
   "execution_count": 39
  },
  {
   "metadata": {
    "ExecuteTime": {
     "end_time": "2024-06-03T12:34:42.797919Z",
     "start_time": "2024-06-03T12:34:42.790675Z"
    }
   },
   "cell_type": "code",
   "source": [
    "generated_string_length = 10\n",
    "''.join(np.random.choice(alphabet, size=generated_string_length))"
   ],
   "id": "f4d7762e2b79bd9d",
   "outputs": [
    {
     "data": {
      "text/plain": [
       "'TTGAGATTCC'"
      ]
     },
     "execution_count": 40,
     "metadata": {},
     "output_type": "execute_result"
    }
   ],
   "execution_count": 40
  },
  {
   "metadata": {
    "ExecuteTime": {
     "end_time": "2024-06-03T12:34:42.870722Z",
     "start_time": "2024-06-03T12:34:42.853342Z"
    }
   },
   "cell_type": "code",
   "source": [
    "alphabet = {'A': 0.2, 'C': 0.3, 'G': 0.3, 'T': 0.2 }\n",
    "p_series = pd.Series(alphabet, name=\"Probability\")\n",
    "p_series"
   ],
   "id": "cff3e6d8321ff08c",
   "outputs": [
    {
     "data": {
      "text/plain": [
       "A    0.2\n",
       "C    0.3\n",
       "G    0.3\n",
       "T    0.2\n",
       "Name: Probability, dtype: float64"
      ]
     },
     "execution_count": 41,
     "metadata": {},
     "output_type": "execute_result"
    }
   ],
   "execution_count": 41
  },
  {
   "metadata": {
    "ExecuteTime": {
     "end_time": "2024-06-03T12:34:42.877209Z",
     "start_time": "2024-06-03T12:34:42.870722Z"
    }
   },
   "cell_type": "code",
   "source": [
    "def generate_string(alphabet: dict, size=10**5):\n",
    "    return np.random.choice(list(alphabet.keys()), size=size, p=list(alphabet.values()))"
   ],
   "id": "70267880290e8e8b",
   "outputs": [],
   "execution_count": 42
  },
  {
   "metadata": {
    "ExecuteTime": {
     "end_time": "2024-06-03T12:34:42.888959Z",
     "start_time": "2024-06-03T12:34:42.877209Z"
    }
   },
   "cell_type": "code",
   "source": [
    "generated_string = generate_string(alphabet, size=1000)\n",
    "generated_string"
   ],
   "id": "601005f5d7df4152",
   "outputs": [
    {
     "data": {
      "text/plain": [
       "array(['C', 'G', 'G', 'A', 'C', 'T', 'T', 'G', 'C', 'G', 'T', 'A', 'A',\n",
       "       'C', 'C', 'T', 'T', 'T', 'G', 'T', 'C', 'C', 'G', 'T', 'T', 'C',\n",
       "       'A', 'G', 'G', 'A', 'A', 'G', 'A', 'G', 'C', 'C', 'G', 'T', 'G',\n",
       "       'C', 'G', 'T', 'C', 'G', 'A', 'A', 'A', 'G', 'G', 'C', 'G', 'C',\n",
       "       'A', 'T', 'C', 'T', 'C', 'G', 'C', 'C', 'G', 'A', 'A', 'G', 'T',\n",
       "       'G', 'A', 'G', 'C', 'T', 'G', 'C', 'G', 'T', 'G', 'G', 'T', 'A',\n",
       "       'G', 'A', 'A', 'C', 'G', 'C', 'T', 'G', 'C', 'C', 'G', 'T', 'A',\n",
       "       'G', 'G', 'C', 'T', 'A', 'C', 'G', 'A', 'G', 'G', 'C', 'C', 'A',\n",
       "       'A', 'G', 'G', 'T', 'G', 'A', 'T', 'A', 'G', 'G', 'G', 'G', 'A',\n",
       "       'T', 'G', 'C', 'C', 'C', 'A', 'T', 'G', 'C', 'T', 'A', 'G', 'C',\n",
       "       'C', 'A', 'A', 'A', 'C', 'G', 'C', 'A', 'C', 'C', 'G', 'C', 'A',\n",
       "       'G', 'A', 'T', 'C', 'A', 'C', 'G', 'A', 'G', 'G', 'C', 'G', 'A',\n",
       "       'G', 'G', 'A', 'G', 'G', 'C', 'T', 'C', 'T', 'C', 'G', 'G', 'T',\n",
       "       'T', 'G', 'A', 'A', 'C', 'T', 'C', 'C', 'T', 'G', 'C', 'A', 'T',\n",
       "       'G', 'G', 'A', 'G', 'C', 'A', 'C', 'G', 'G', 'C', 'G', 'G', 'G',\n",
       "       'A', 'C', 'G', 'A', 'A', 'C', 'T', 'C', 'C', 'T', 'A', 'T', 'G',\n",
       "       'G', 'A', 'A', 'T', 'G', 'A', 'G', 'T', 'C', 'A', 'G', 'G', 'G',\n",
       "       'C', 'T', 'G', 'G', 'A', 'T', 'C', 'G', 'G', 'A', 'G', 'C', 'C',\n",
       "       'C', 'A', 'T', 'C', 'G', 'A', 'G', 'G', 'G', 'G', 'A', 'T', 'C',\n",
       "       'C', 'G', 'T', 'G', 'T', 'G', 'G', 'G', 'C', 'C', 'G', 'T', 'C',\n",
       "       'A', 'G', 'A', 'C', 'A', 'T', 'T', 'G', 'C', 'G', 'C', 'T', 'G',\n",
       "       'G', 'A', 'A', 'C', 'T', 'T', 'G', 'G', 'C', 'T', 'C', 'C', 'T',\n",
       "       'G', 'A', 'C', 'G', 'C', 'G', 'G', 'C', 'A', 'G', 'A', 'G', 'C',\n",
       "       'G', 'A', 'G', 'A', 'G', 'G', 'G', 'G', 'T', 'G', 'A', 'A', 'G',\n",
       "       'A', 'T', 'C', 'A', 'C', 'G', 'G', 'C', 'T', 'A', 'G', 'G', 'G',\n",
       "       'T', 'T', 'T', 'G', 'C', 'T', 'C', 'G', 'G', 'T', 'G', 'G', 'T',\n",
       "       'A', 'T', 'T', 'G', 'G', 'G', 'T', 'G', 'G', 'T', 'A', 'T', 'G',\n",
       "       'C', 'A', 'A', 'G', 'C', 'G', 'T', 'G', 'G', 'G', 'G', 'A', 'A',\n",
       "       'T', 'C', 'T', 'C', 'C', 'C', 'T', 'C', 'C', 'C', 'A', 'C', 'C',\n",
       "       'T', 'G', 'T', 'C', 'A', 'G', 'T', 'G', 'A', 'T', 'C', 'C', 'G',\n",
       "       'C', 'C', 'G', 'T', 'C', 'G', 'C', 'T', 'G', 'C', 'G', 'C', 'G',\n",
       "       'G', 'C', 'G', 'G', 'A', 'T', 'C', 'A', 'G', 'C', 'A', 'G', 'A',\n",
       "       'G', 'T', 'C', 'T', 'G', 'C', 'T', 'T', 'C', 'C', 'G', 'C', 'A',\n",
       "       'A', 'C', 'A', 'G', 'A', 'A', 'G', 'G', 'T', 'C', 'A', 'G', 'G',\n",
       "       'C', 'T', 'T', 'C', 'T', 'A', 'G', 'A', 'C', 'T', 'C', 'G', 'C',\n",
       "       'T', 'A', 'T', 'G', 'A', 'C', 'T', 'T', 'T', 'C', 'G', 'C', 'T',\n",
       "       'G', 'A', 'C', 'C', 'C', 'A', 'C', 'G', 'C', 'G', 'G', 'T', 'A',\n",
       "       'C', 'T', 'C', 'C', 'A', 'G', 'A', 'T', 'G', 'G', 'C', 'T', 'G',\n",
       "       'G', 'A', 'G', 'C', 'G', 'C', 'A', 'A', 'T', 'A', 'A', 'A', 'C',\n",
       "       'A', 'A', 'A', 'C', 'T', 'G', 'C', 'A', 'G', 'T', 'G', 'T', 'G',\n",
       "       'T', 'T', 'C', 'C', 'C', 'T', 'C', 'T', 'A', 'T', 'G', 'T', 'G',\n",
       "       'C', 'G', 'G', 'G', 'A', 'G', 'C', 'A', 'C', 'C', 'G', 'G', 'C',\n",
       "       'C', 'A', 'A', 'C', 'C', 'C', 'C', 'G', 'G', 'A', 'C', 'T', 'G',\n",
       "       'C', 'G', 'C', 'T', 'G', 'C', 'C', 'C', 'T', 'T', 'G', 'C', 'G',\n",
       "       'A', 'A', 'A', 'G', 'T', 'A', 'A', 'C', 'C', 'G', 'A', 'T', 'A',\n",
       "       'C', 'A', 'C', 'A', 'A', 'A', 'G', 'A', 'G', 'T', 'A', 'T', 'T',\n",
       "       'C', 'C', 'G', 'T', 'T', 'T', 'A', 'A', 'T', 'G', 'A', 'A', 'T',\n",
       "       'A', 'T', 'G', 'A', 'T', 'T', 'A', 'C', 'G', 'T', 'C', 'C', 'C',\n",
       "       'A', 'C', 'C', 'G', 'A', 'C', 'A', 'G', 'C', 'C', 'G', 'G', 'G',\n",
       "       'C', 'G', 'A', 'G', 'G', 'C', 'A', 'T', 'A', 'C', 'G', 'G', 'G',\n",
       "       'T', 'C', 'A', 'G', 'T', 'T', 'C', 'G', 'A', 'A', 'A', 'C', 'A',\n",
       "       'G', 'G', 'G', 'C', 'C', 'C', 'C', 'A', 'G', 'A', 'C', 'C', 'A',\n",
       "       'C', 'C', 'T', 'C', 'G', 'C', 'T', 'C', 'A', 'T', 'C', 'A', 'C',\n",
       "       'C', 'A', 'C', 'T', 'C', 'T', 'G', 'G', 'T', 'C', 'G', 'G', 'C',\n",
       "       'C', 'A', 'A', 'C', 'G', 'G', 'C', 'T', 'A', 'T', 'A', 'C', 'C',\n",
       "       'G', 'T', 'G', 'A', 'A', 'C', 'G', 'T', 'G', 'G', 'T', 'G', 'G',\n",
       "       'G', 'T', 'G', 'G', 'T', 'G', 'C', 'T', 'C', 'T', 'T', 'T', 'G',\n",
       "       'C', 'T', 'T', 'C', 'A', 'C', 'A', 'G', 'T', 'G', 'C', 'C', 'G',\n",
       "       'A', 'T', 'T', 'T', 'G', 'A', 'A', 'T', 'T', 'T', 'C', 'G', 'C',\n",
       "       'G', 'C', 'T', 'C', 'C', 'C', 'G', 'A', 'T', 'G', 'T', 'C', 'G',\n",
       "       'G', 'G', 'G', 'A', 'C', 'G', 'C', 'T', 'A', 'C', 'T', 'G', 'C',\n",
       "       'C', 'G', 'T', 'A', 'C', 'A', 'A', 'T', 'G', 'C', 'G', 'C', 'T',\n",
       "       'G', 'C', 'T', 'A', 'C', 'A', 'T', 'A', 'T', 'G', 'C', 'C', 'A',\n",
       "       'C', 'A', 'A', 'A', 'G', 'A', 'G', 'G', 'T', 'C', 'A', 'C', 'G',\n",
       "       'A', 'T', 'T', 'C', 'G', 'T', 'C', 'C', 'T', 'A', 'T', 'G', 'T',\n",
       "       'T', 'G', 'A', 'T', 'C', 'A', 'C', 'G', 'T', 'C', 'G', 'A', 'G',\n",
       "       'G', 'C', 'C', 'G', 'G', 'G', 'T', 'G', 'C', 'G', 'C', 'T', 'G',\n",
       "       'T', 'G', 'T', 'T', 'C', 'T', 'T', 'G', 'A', 'A', 'G', 'T', 'T',\n",
       "       'G', 'C', 'A', 'G', 'A', 'C', 'A', 'C', 'T', 'G', 'C', 'G', 'T',\n",
       "       'T', 'G', 'G', 'G', 'G', 'C', 'A', 'A', 'A', 'T', 'G', 'A', 'G',\n",
       "       'T', 'C', 'G', 'A', 'C', 'T', 'C', 'T', 'C', 'C', 'G', 'G', 'A',\n",
       "       'A', 'G', 'A', 'G', 'G', 'G', 'G', 'T', 'T', 'G', 'A', 'C', 'C',\n",
       "       'G', 'G', 'C', 'A', 'C', 'C', 'C', 'C', 'G', 'A', 'G', 'C', 'T',\n",
       "       'C', 'C', 'G', 'A', 'C', 'G', 'C', 'T', 'T', 'T', 'C', 'C', 'C',\n",
       "       'T', 'T', 'C', 'G', 'C', 'A', 'A', 'G', 'A', 'G', 'G', 'G', 'G',\n",
       "       'G', 'C', 'T', 'A', 'T', 'C', 'G', 'C', 'C', 'A', 'A', 'A', 'C',\n",
       "       'G', 'A', 'G', 'A', 'C', 'T', 'C', 'T', 'T', 'T', 'C', 'T'],\n",
       "      dtype='<U1')"
      ]
     },
     "execution_count": 43,
     "metadata": {},
     "output_type": "execute_result"
    }
   ],
   "execution_count": 43
  },
  {
   "metadata": {
    "ExecuteTime": {
     "end_time": "2024-06-03T12:34:42.903774Z",
     "start_time": "2024-06-03T12:34:42.888959Z"
    }
   },
   "cell_type": "code",
   "source": [
    "insertion_place = np.random.randint(0, len(generated_string) + 1)\n",
    "insertion_place"
   ],
   "id": "1ac3ebadf0e1cb76",
   "outputs": [
    {
     "data": {
      "text/plain": [
       "623"
      ]
     },
     "execution_count": 44,
     "metadata": {},
     "output_type": "execute_result"
    }
   ],
   "execution_count": 44
  },
  {
   "metadata": {
    "ExecuteTime": {
     "end_time": "2024-06-03T12:34:42.953380Z",
     "start_time": "2024-06-03T12:34:42.936158Z"
    }
   },
   "cell_type": "code",
   "source": [
    "inserted_string = generate_string(alphabet, size=10)\n",
    "string_with_insertion = np.insert(generated_string, insertion_place, inserted_string)\n",
    "print(string_with_insertion)"
   ],
   "id": "6f101d7c9d55be94",
   "outputs": [
    {
     "name": "stdout",
     "output_type": "stream",
     "text": [
      "['C' 'G' 'G' ... 'T' 'C' 'T']\n"
     ]
    }
   ],
   "execution_count": 45
  },
  {
   "metadata": {
    "ExecuteTime": {
     "end_time": "2024-06-03T12:34:42.975425Z",
     "start_time": "2024-06-03T12:34:42.953380Z"
    }
   },
   "cell_type": "code",
   "source": [
    "conclusion = ShaidurovAlgorithm().get_conclusion(string_with_insertion, generated_string)\n",
    "conclusion = np.real_if_close(conclusion, 1e-10)\n",
    "norm = np.linalg.norm(conclusion)\n",
    "print(norm)\n",
    "conclusion_normed = conclusion / norm\n",
    "conclusion"
   ],
   "id": "f180192eae703d51",
   "outputs": [
    {
     "name": "stdout",
     "output_type": "stream",
     "text": [
      "6756.399928956249\n"
     ]
    },
    {
     "data": {
      "text/plain": [
       "array([ 0.00000000e+00,  1.00000000e+00, -1.42108547e-14, ...,\n",
       "        0.00000000e+00,  1.00000000e+00,  0.00000000e+00])"
      ]
     },
     "execution_count": 46,
     "metadata": {},
     "output_type": "execute_result"
    }
   ],
   "execution_count": 46
  },
  {
   "metadata": {
    "ExecuteTime": {
     "end_time": "2024-06-03T12:34:43.138657Z",
     "start_time": "2024-06-03T12:34:42.975425Z"
    }
   },
   "cell_type": "code",
   "source": [
    "guid = uuid.uuid4()\n",
    "x = np.arange(len(conclusion_normed))\n",
    "plt.plot(x, conclusion_normed)\n",
    "# plt.text(5, 0.5, f'index={insertion_place}')\n",
    "# plt.text(7, 0.5, f'guid={guid}')\n",
    "# plt.annotate(f'insert starts here', xy=(insertion_place, conclusion[insertion_place]), arrowprops=dict(facecolor='red', shrink=0.05))\n",
    "# plt.annotate(f'instert ends here', xy=(insertion_place + len(inserted_string), conclusion[insertion_place + len(inserted_string)]), arrowprops=dict(facecolor='green', shrink=0.05))\n",
    "plt.xlabel('k')\n",
    "plt.ylabel('Conclusion')\n",
    "plt.title(f'p(A)={alphabet[\"A\"]}, p(T)={alphabet[\"T\"]} p(C)={alphabet[\"C\"]} p(G)={alphabet[\"G\"]}')\n",
    "plt.show()\n",
    "print(insertion_place)\n",
    "print(len(inserted_string))"
   ],
   "id": "bdfb8aa50032620b",
   "outputs": [
    {
     "data": {
      "text/plain": [
       "<Figure size 640x480 with 1 Axes>"
      ],
      "image/png": "[encoded data removed]"
     },
     "metadata": {},
     "output_type": "display_data"
    },
    {
     "name": "stdout",
     "output_type": "stream",
     "text": [
      "623\n",
      "10\n"
     ]
    }
   ],
   "execution_count": 47
  },
  {
   "metadata": {
    "ExecuteTime": {
     "end_time": "2024-06-03T12:34:43.330108Z",
     "start_time": "2024-06-03T12:34:43.138657Z"
    }
   },
   "cell_type": "code",
   "source": [
    "guid = uuid.uuid4()\n",
    "x = np.arange(len(conclusion))\n",
    "plt.plot(x[750:1250], conclusion[750:1250])\n",
    "plt.xlabel('k')\n",
    "plt.ylabel('Conclusion')\n",
    "plt.title(f'p(A)={alphabet[\"A\"]}, p(T)={alphabet[\"T\"]} p(C)={alphabet[\"C\"]} p(G)={alphabet[\"G\"]}')\n",
    "plt.show()\n",
    "print(insertion_place)\n",
    "print(len(inserted_string))"
   ],
   "id": "5544d7212b76ff20",
   "outputs": [
    {
     "data": {
      "text/plain": [
       "<Figure size 640x480 with 1 Axes>"
      ],
      "image/png": "[encoded data removed]"
     },
     "metadata": {},
     "output_type": "display_data"
    },
    {
     "name": "stdout",
     "output_type": "stream",
     "text": [
      "623\n",
      "10\n"
     ]
    }
   ],
   "execution_count": 48
  },
  {
   "metadata": {
    "ExecuteTime": {
     "end_time": "2024-06-03T12:34:43.334545Z",
     "start_time": "2024-06-03T12:34:43.330108Z"
    }
   },
   "cell_type": "code",
   "source": [
    "# p_series.to_csv(f\"artifacts/{guid}_probability.csv\")\n",
    "# np.save(f\"artifacts/string_{guid}_{insertion_place}.txt\", generated_string)\n",
    "# np.save(f\"artifacts/string_inserted_{guid}.txt\", inserted_string)"
   ],
   "id": "c684b3109594d605",
   "outputs": [],
   "execution_count": 49
  },
  {
   "metadata": {
    "ExecuteTime": {
     "end_time": "2024-06-03T12:34:43.343554Z",
     "start_time": "2024-06-03T12:34:43.334545Z"
    }
   },
   "cell_type": "code",
   "source": "Counter(generated_string)",
   "id": "e05513fd575621fe",
   "outputs": [
    {
     "data": {
      "text/plain": [
       "Counter({'G': 309, 'C': 277, 'A': 208, 'T': 206})"
      ]
     },
     "execution_count": 50,
     "metadata": {},
     "output_type": "execute_result"
    }
   ],
   "execution_count": 50
  },
  {
   "metadata": {
    "ExecuteTime": {
     "end_time": "2024-06-03T12:34:43.350501Z",
     "start_time": "2024-06-03T12:34:43.343554Z"
    }
   },
   "cell_type": "code",
   "source": "ro = calculateRo(generated_string, inserted_string)",
   "id": "ee8355a4a84d7005",
   "outputs": [],
   "execution_count": 51
  },
  {
   "metadata": {
    "ExecuteTime": {
     "end_time": "2024-06-03T12:35:53.498693Z",
     "start_time": "2024-06-03T12:35:53.481328Z"
    }
   },
   "cell_type": "code",
   "source": [
    "max_arg = np.argmax(conclusion)\n",
    "print(max_arg)\n",
    "(conclusion[max_arg] - ro * max_arg)/(1 - ro)"
   ],
   "id": "452cab2268f7134b",
   "outputs": [
    {
     "name": "stdout",
     "output_type": "stream",
     "text": [
      "999\n"
     ]
    },
    {
     "data": {
      "text/plain": [
       "619.8850512682137"
      ]
     },
     "execution_count": 53,
     "metadata": {},
     "output_type": "execute_result"
    }
   ],
   "execution_count": 53
  },
  {
   "metadata": {
    "ExecuteTime": {
     "end_time": "2024-06-03T12:34:43.363118Z",
     "start_time": "2024-06-03T12:34:43.357626Z"
    }
   },
   "cell_type": "code",
   "source": "",
   "id": "7bf4985a456db120",
   "outputs": [],
   "execution_count": 52
  }
 ],
 "metadata": {
  "kernelspec": {
   "display_name": "Python 3",
   "language": "python",
   "name": "python3"
  },
  "language_info": {
   "codemirror_mode": {
    "name": "ipython",
    "version": 2
   },
   "file_extension": ".py",
   "mimetype": "text/x-python",
   "name": "python",
   "nbconvert_exporter": "python",
   "pygments_lexer": "ipython2",
   "version": "2.7.6"
  }
 },
 "nbformat": 4,
 "nbformat_minor": 5
}
