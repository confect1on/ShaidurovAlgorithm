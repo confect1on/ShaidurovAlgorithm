{
 "cells": [
  {
   "cell_type": "code",
   "id": "initial_id",
   "metadata": {
    "collapsed": true,
    "ExecuteTime": {
     "end_time": "2024-05-29T10:12:44.805035Z",
     "start_time": "2024-05-29T10:12:44.801509Z"
    }
   },
   "source": [
    "import matplotlib.pyplot as plt\n",
    "import numpy as np\n",
    "import pandas as pd\n",
    "from collections import Counter\n",
    "from ShaidurovAlgorithm import ShaidurovAlgorithm\n",
    "import uuid"
   ],
   "outputs": [],
   "execution_count": 207
  },
  {
   "metadata": {
    "ExecuteTime": {
     "end_time": "2024-05-29T10:12:44.810886Z",
     "start_time": "2024-05-29T10:12:44.805548Z"
    }
   },
   "cell_type": "code",
   "source": "alphabet = ['A', 'C', 'G', 'T']",
   "id": "5a2502dc62abcc20",
   "outputs": [],
   "execution_count": 208
  },
  {
   "metadata": {
    "ExecuteTime": {
     "end_time": "2024-05-29T10:12:44.817879Z",
     "start_time": "2024-05-29T10:12:44.811881Z"
    }
   },
   "cell_type": "code",
   "source": [
    "generated_string_length = 10\n",
    "''.join(np.random.choice(alphabet, size=generated_string_length))"
   ],
   "id": "f4d7762e2b79bd9d",
   "outputs": [
    {
     "data": {
      "text/plain": [
       "'AGTGTCATGC'"
      ]
     },
     "execution_count": 209,
     "metadata": {},
     "output_type": "execute_result"
    }
   ],
   "execution_count": 209
  },
  {
   "metadata": {
    "ExecuteTime": {
     "end_time": "2024-05-29T10:12:44.824060Z",
     "start_time": "2024-05-29T10:12:44.818880Z"
    }
   },
   "cell_type": "code",
   "source": [
    "alphabet = {'A': 0.2, 'C': 0.3, 'G': 0.3, 'T': 0.2 }\n",
    "p_series = pd.Series(alphabet, name=\"Probability\")\n",
    "p_series"
   ],
   "id": "cff3e6d8321ff08c",
   "outputs": [
    {
     "data": {
      "text/plain": [
       "A    0.2\n",
       "C    0.3\n",
       "G    0.3\n",
       "T    0.2\n",
       "Name: Probability, dtype: float64"
      ]
     },
     "execution_count": 210,
     "metadata": {},
     "output_type": "execute_result"
    }
   ],
   "execution_count": 210
  },
  {
   "metadata": {
    "ExecuteTime": {
     "end_time": "2024-05-29T10:12:44.828776Z",
     "start_time": "2024-05-29T10:12:44.824060Z"
    }
   },
   "cell_type": "code",
   "source": [
    "def generate_string(alphabet: dict, size=10**5):\n",
    "    return np.random.choice(list(alphabet.keys()), size=size, p=list(alphabet.values()))"
   ],
   "id": "70267880290e8e8b",
   "outputs": [],
   "execution_count": 211
  },
  {
   "metadata": {
    "ExecuteTime": {
     "end_time": "2024-05-29T10:12:44.837772Z",
     "start_time": "2024-05-29T10:12:44.828776Z"
    }
   },
   "cell_type": "code",
   "source": [
    "generated_string = generate_string(alphabet, size=1000)\n",
    "generated_string"
   ],
   "id": "601005f5d7df4152",
   "outputs": [
    {
     "data": {
      "text/plain": [
       "array(['T', 'T', 'G', 'G', 'C', 'T', 'C', 'G', 'G', 'A', 'T', 'A', 'A',\n",
       "       'A', 'C', 'C', 'C', 'G', 'T', 'C', 'C', 'G', 'C', 'G', 'G', 'G',\n",
       "       'G', 'G', 'A', 'A', 'G', 'G', 'A', 'G', 'G', 'T', 'C', 'G', 'A',\n",
       "       'A', 'C', 'C', 'A', 'T', 'T', 'C', 'A', 'A', 'C', 'T', 'G', 'A',\n",
       "       'C', 'A', 'T', 'G', 'C', 'A', 'C', 'T', 'G', 'C', 'C', 'G', 'T',\n",
       "       'A', 'C', 'C', 'A', 'A', 'C', 'G', 'T', 'G', 'T', 'C', 'G', 'T',\n",
       "       'T', 'A', 'C', 'A', 'G', 'T', 'C', 'T', 'C', 'T', 'T', 'T', 'G',\n",
       "       'A', 'G', 'A', 'G', 'A', 'A', 'G', 'A', 'G', 'C', 'C', 'G', 'A',\n",
       "       'G', 'C', 'G', 'T', 'C', 'G', 'A', 'C', 'A', 'C', 'T', 'G', 'G',\n",
       "       'G', 'C', 'C', 'T', 'T', 'A', 'G', 'G', 'T', 'A', 'A', 'C', 'C',\n",
       "       'C', 'C', 'C', 'T', 'C', 'G', 'T', 'C', 'G', 'C', 'C', 'G', 'C',\n",
       "       'G', 'G', 'C', 'T', 'G', 'T', 'C', 'G', 'A', 'T', 'C', 'A', 'G',\n",
       "       'A', 'C', 'T', 'G', 'A', 'G', 'G', 'T', 'G', 'A', 'T', 'C', 'G',\n",
       "       'A', 'C', 'C', 'A', 'G', 'G', 'A', 'C', 'C', 'G', 'C', 'G', 'A',\n",
       "       'T', 'C', 'G', 'C', 'G', 'A', 'C', 'G', 'C', 'C', 'C', 'A', 'C',\n",
       "       'T', 'T', 'A', 'C', 'A', 'A', 'C', 'G', 'G', 'C', 'G', 'A', 'T',\n",
       "       'G', 'T', 'G', 'A', 'C', 'C', 'C', 'G', 'A', 'T', 'C', 'C', 'C',\n",
       "       'G', 'G', 'G', 'G', 'G', 'C', 'T', 'C', 'C', 'G', 'C', 'T', 'C',\n",
       "       'G', 'C', 'T', 'C', 'G', 'T', 'A', 'A', 'G', 'T', 'C', 'G', 'T',\n",
       "       'C', 'T', 'G', 'T', 'G', 'G', 'T', 'C', 'T', 'T', 'G', 'A', 'G',\n",
       "       'C', 'G', 'G', 'C', 'G', 'C', 'G', 'G', 'A', 'C', 'G', 'T', 'C',\n",
       "       'T', 'A', 'T', 'A', 'A', 'A', 'C', 'T', 'G', 'C', 'G', 'T', 'G',\n",
       "       'G', 'G', 'G', 'G', 'G', 'T', 'G', 'T', 'C', 'C', 'G', 'C', 'T',\n",
       "       'A', 'T', 'C', 'C', 'A', 'G', 'A', 'G', 'T', 'G', 'G', 'C', 'G',\n",
       "       'A', 'G', 'A', 'G', 'G', 'A', 'C', 'A', 'G', 'A', 'T', 'G', 'T',\n",
       "       'C', 'G', 'T', 'G', 'G', 'C', 'A', 'T', 'C', 'G', 'G', 'G', 'G',\n",
       "       'A', 'A', 'G', 'C', 'T', 'G', 'C', 'A', 'T', 'G', 'T', 'C', 'C',\n",
       "       'A', 'A', 'A', 'T', 'C', 'G', 'G', 'C', 'G', 'A', 'C', 'G', 'A',\n",
       "       'T', 'C', 'T', 'C', 'T', 'T', 'A', 'G', 'G', 'C', 'T', 'A', 'G',\n",
       "       'T', 'A', 'T', 'G', 'A', 'A', 'C', 'A', 'G', 'G', 'A', 'T', 'G',\n",
       "       'T', 'C', 'A', 'A', 'C', 'C', 'C', 'G', 'C', 'C', 'C', 'G', 'C',\n",
       "       'C', 'T', 'A', 'C', 'C', 'C', 'G', 'A', 'C', 'C', 'G', 'G', 'C',\n",
       "       'G', 'C', 'T', 'C', 'C', 'C', 'C', 'T', 'C', 'C', 'A', 'C', 'G',\n",
       "       'C', 'G', 'A', 'C', 'G', 'T', 'C', 'G', 'G', 'G', 'C', 'G', 'G',\n",
       "       'C', 'G', 'G', 'T', 'C', 'A', 'A', 'G', 'C', 'T', 'A', 'C', 'C',\n",
       "       'A', 'T', 'G', 'G', 'T', 'G', 'A', 'A', 'T', 'G', 'G', 'T', 'G',\n",
       "       'A', 'G', 'G', 'C', 'G', 'G', 'G', 'C', 'G', 'C', 'T', 'C', 'A',\n",
       "       'C', 'A', 'C', 'C', 'G', 'C', 'T', 'T', 'C', 'C', 'C', 'C', 'T',\n",
       "       'C', 'C', 'G', 'C', 'T', 'C', 'A', 'T', 'G', 'T', 'G', 'T', 'T',\n",
       "       'T', 'G', 'T', 'G', 'G', 'C', 'C', 'A', 'C', 'G', 'C', 'A', 'T',\n",
       "       'G', 'T', 'C', 'G', 'G', 'G', 'G', 'G', 'A', 'C', 'T', 'A', 'A',\n",
       "       'G', 'C', 'C', 'C', 'A', 'G', 'A', 'C', 'C', 'G', 'T', 'T', 'T',\n",
       "       'C', 'G', 'G', 'C', 'G', 'G', 'G', 'C', 'C', 'T', 'G', 'C', 'G',\n",
       "       'A', 'T', 'C', 'G', 'C', 'G', 'A', 'C', 'T', 'A', 'A', 'T', 'A',\n",
       "       'C', 'G', 'C', 'C', 'G', 'A', 'G', 'G', 'C', 'C', 'T', 'C', 'A',\n",
       "       'A', 'T', 'G', 'T', 'C', 'C', 'C', 'T', 'C', 'T', 'A', 'A', 'T',\n",
       "       'G', 'T', 'T', 'G', 'T', 'C', 'G', 'C', 'G', 'T', 'T', 'T', 'G',\n",
       "       'T', 'G', 'C', 'C', 'G', 'G', 'C', 'A', 'T', 'G', 'T', 'A', 'C',\n",
       "       'G', 'C', 'A', 'T', 'C', 'G', 'A', 'C', 'T', 'G', 'A', 'T', 'G',\n",
       "       'T', 'G', 'T', 'G', 'G', 'C', 'G', 'C', 'G', 'C', 'C', 'C', 'G',\n",
       "       'G', 'C', 'C', 'C', 'C', 'G', 'G', 'A', 'T', 'C', 'G', 'C', 'A',\n",
       "       'C', 'G', 'A', 'A', 'G', 'C', 'C', 'A', 'C', 'G', 'T', 'G', 'T',\n",
       "       'A', 'A', 'A', 'C', 'T', 'T', 'G', 'A', 'T', 'A', 'G', 'T', 'T',\n",
       "       'C', 'A', 'G', 'C', 'T', 'G', 'A', 'T', 'G', 'G', 'G', 'G', 'C',\n",
       "       'T', 'G', 'A', 'G', 'C', 'T', 'G', 'T', 'C', 'A', 'G', 'C', 'T',\n",
       "       'A', 'G', 'G', 'G', 'G', 'C', 'A', 'C', 'T', 'C', 'A', 'T', 'C',\n",
       "       'G', 'T', 'T', 'C', 'G', 'T', 'T', 'G', 'G', 'C', 'T', 'G', 'A',\n",
       "       'T', 'T', 'C', 'G', 'C', 'T', 'C', 'G', 'A', 'C', 'A', 'C', 'T',\n",
       "       'A', 'C', 'G', 'G', 'C', 'T', 'A', 'C', 'A', 'G', 'G', 'C', 'C',\n",
       "       'G', 'G', 'T', 'A', 'T', 'C', 'C', 'A', 'G', 'A', 'C', 'T', 'T',\n",
       "       'G', 'G', 'G', 'G', 'A', 'T', 'G', 'G', 'C', 'G', 'A', 'C', 'C',\n",
       "       'T', 'C', 'A', 'T', 'C', 'C', 'C', 'G', 'C', 'C', 'C', 'G', 'A',\n",
       "       'G', 'A', 'T', 'C', 'G', 'A', 'C', 'A', 'G', 'C', 'T', 'A', 'T',\n",
       "       'T', 'G', 'T', 'T', 'G', 'A', 'G', 'A', 'G', 'T', 'A', 'C', 'G',\n",
       "       'G', 'A', 'C', 'G', 'G', 'C', 'C', 'C', 'T', 'A', 'C', 'A', 'G',\n",
       "       'G', 'G', 'C', 'G', 'A', 'C', 'G', 'A', 'A', 'G', 'G', 'T', 'C',\n",
       "       'T', 'T', 'C', 'A', 'C', 'C', 'C', 'G', 'C', 'A', 'G', 'T', 'G',\n",
       "       'G', 'T', 'T', 'T', 'G', 'G', 'C', 'C', 'T', 'T', 'A', 'G', 'T',\n",
       "       'C', 'G', 'A', 'T', 'A', 'T', 'C', 'A', 'C', 'C', 'A', 'A', 'T',\n",
       "       'A', 'A', 'G', 'G', 'G', 'T', 'G', 'T', 'A', 'T', 'G', 'G', 'G',\n",
       "       'G', 'G', 'G', 'A', 'G', 'A', 'C', 'C', 'G', 'G', 'T', 'C', 'T',\n",
       "       'T', 'T', 'C', 'A', 'T', 'C', 'T', 'T', 'C', 'C', 'T', 'C', 'G',\n",
       "       'C', 'T', 'C', 'C', 'T', 'A', 'G', 'A', 'G', 'T', 'T', 'T', 'C',\n",
       "       'G', 'A', 'C', 'G', 'T', 'A', 'A', 'G', 'A', 'T', 'G', 'A', 'T',\n",
       "       'C', 'A', 'C', 'C', 'C', 'G', 'T', 'A', 'C', 'C', 'T', 'C', 'A',\n",
       "       'C', 'C', 'G', 'C', 'G', 'G', 'A', 'T', 'T', 'C', 'G', 'C', 'A',\n",
       "       'C', 'T', 'C', 'T', 'C', 'G', 'G', 'C', 'G', 'C', 'G', 'G'],\n",
       "      dtype='<U1')"
      ]
     },
     "execution_count": 212,
     "metadata": {},
     "output_type": "execute_result"
    }
   ],
   "execution_count": 212
  },
  {
   "metadata": {
    "ExecuteTime": {
     "end_time": "2024-05-29T10:12:44.842440Z",
     "start_time": "2024-05-29T10:12:44.838772Z"
    }
   },
   "cell_type": "code",
   "source": [
    "insertion_place = np.random.randint(0, len(generated_string) + 1)\n",
    "insertion_place"
   ],
   "id": "1ac3ebadf0e1cb76",
   "outputs": [
    {
     "data": {
      "text/plain": [
       "657"
      ]
     },
     "execution_count": 213,
     "metadata": {},
     "output_type": "execute_result"
    }
   ],
   "execution_count": 213
  },
  {
   "metadata": {
    "ExecuteTime": {
     "end_time": "2024-05-29T10:12:44.848439Z",
     "start_time": "2024-05-29T10:12:44.842440Z"
    }
   },
   "cell_type": "code",
   "source": [
    "inserted_string = generate_string(alphabet, size=10)\n",
    "string_with_insertion = np.insert(generated_string, insertion_place, inserted_string)\n",
    "print(string_with_insertion)"
   ],
   "id": "6f101d7c9d55be94",
   "outputs": [
    {
     "name": "stdout",
     "output_type": "stream",
     "text": [
      "['T' 'T' 'G' ... 'C' 'G' 'G']\n"
     ]
    }
   ],
   "execution_count": 214
  },
  {
   "metadata": {
    "ExecuteTime": {
     "end_time": "2024-05-29T10:12:44.857440Z",
     "start_time": "2024-05-29T10:12:44.849440Z"
    }
   },
   "cell_type": "code",
   "source": [
    "conclusion = ShaidurovAlgorithm().get_conclusion(string_with_insertion, generated_string)\n",
    "conclusion = np.real_if_close(conclusion, 1e-10)\n",
    "norm = np.linalg.norm(conclusion)\n",
    "print(norm)\n",
    "conclusion /= norm\n",
    "conclusion"
   ],
   "id": "f180192eae703d51",
   "outputs": [
    {
     "name": "stdout",
     "output_type": "stream",
     "text": [
      "6846.398104112848\n"
     ]
    },
    {
     "data": {
      "text/plain": [
       "array([0.        , 0.        , 0.00014606, ..., 0.00014606, 0.        ,\n",
       "       0.        ])"
      ]
     },
     "execution_count": 215,
     "metadata": {},
     "output_type": "execute_result"
    }
   ],
   "execution_count": 215
  },
  {
   "metadata": {
    "ExecuteTime": {
     "end_time": "2024-05-29T10:12:44.940411Z",
     "start_time": "2024-05-29T10:12:44.858439Z"
    }
   },
   "cell_type": "code",
   "source": [
    "guid = uuid.uuid4()\n",
    "x = np.arange(len(conclusion))\n",
    "plt.plot(x, conclusion)\n",
    "# plt.text(5, 0.5, f'index={insertion_place}')\n",
    "# plt.text(7, 0.5, f'guid={guid}')\n",
    "# plt.annotate(f'insert starts here', xy=(insertion_place, conclusion[insertion_place]), arrowprops=dict(facecolor='red', shrink=0.05))\n",
    "# plt.annotate(f'instert ends here', xy=(insertion_place + len(inserted_string), conclusion[insertion_place + len(inserted_string)]), arrowprops=dict(facecolor='green', shrink=0.05))\n",
    "plt.xlabel('k')\n",
    "plt.ylabel('Conclusion')\n",
    "plt.title(f'p(A)={alphabet[\"A\"]}, p(T)={alphabet[\"T\"]} p(C)={alphabet[\"C\"]} p(G)={alphabet[\"G\"]}')\n",
    "plt.show()\n",
    "print(insertion_place)\n",
    "print(len(inserted_string))"
   ],
   "id": "bdfb8aa50032620b",
   "outputs": [
    {
     "data": {
      "text/plain": [
       "<Figure size 640x480 with 1 Axes>"
      ],
      "image/png": "[encoded data removed]"
     },
     "metadata": {},
     "output_type": "display_data"
    },
    {
     "name": "stdout",
     "output_type": "stream",
     "text": [
      "657\n",
      "10\n"
     ]
    }
   ],
   "execution_count": 216
  },
  {
   "metadata": {
    "ExecuteTime": {
     "end_time": "2024-05-29T10:12:44.945801Z",
     "start_time": "2024-05-29T10:12:44.941408Z"
    }
   },
   "cell_type": "code",
   "source": [
    "p_series.to_csv(f\"artifacts/{guid}_probability.csv\")\n",
    "np.save(f\"artifacts/string_{guid}_{insertion_place}.txt\", generated_string)\n",
    "np.save(f\"artifacts/string_inserted_{guid}.txt\", inserted_string)"
   ],
   "id": "c684b3109594d605",
   "outputs": [],
   "execution_count": 217
  },
  {
   "metadata": {
    "ExecuteTime": {
     "end_time": "2024-05-29T10:12:44.948322Z",
     "start_time": "2024-05-29T10:12:44.945801Z"
    }
   },
   "cell_type": "code",
   "source": "",
   "id": "e05513fd575621fe",
   "outputs": [],
   "execution_count": 217
  }
 ],
 "metadata": {
  "kernelspec": {
   "display_name": "Python 3",
   "language": "python",
   "name": "python3"
  },
  "language_info": {
   "codemirror_mode": {
    "name": "ipython",
    "version": 2
   },
   "file_extension": ".py",
   "mimetype": "text/x-python",
   "name": "python",
   "nbconvert_exporter": "python",
   "pygments_lexer": "ipython2",
   "version": "2.7.6"
  }
 },
 "nbformat": 4,
 "nbformat_minor": 5
}
