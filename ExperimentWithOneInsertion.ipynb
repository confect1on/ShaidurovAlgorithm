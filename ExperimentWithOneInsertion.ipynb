{
 "cells": [
  {
   "cell_type": "code",
   "id": "initial_id",
   "metadata": {
    "collapsed": true,
    "ExecuteTime": {
     "end_time": "2024-06-07T02:55:47.116862Z",
     "start_time": "2024-06-07T02:55:47.113993Z"
    }
   },
   "source": [
    "from numba import njit\n",
    "import uuid\n",
    "from collections import Counter\n",
    "import timeit\n",
    "import numpy as np\n",
    "import pandas as pd\n",
    "\n",
    "from ShaidurovAlgorithm import get_convolution"
   ],
   "outputs": [],
   "execution_count": 87
  },
  {
   "metadata": {
    "ExecuteTime": {
     "end_time": "2024-06-07T02:55:47.127398Z",
     "start_time": "2024-06-07T02:55:47.122872Z"
    }
   },
   "cell_type": "code",
   "source": [
    "#constants for experiment\n",
    "symbol_to_probability = {'A': 0.2, 'C': 0.3, 'G': 0.3, 'T': 0.2 }\n",
    "source_string_length = 10_000\n",
    "insertion_length = 100\n",
    "step = 5\n",
    "eps = 5\n",
    "experiment_id = uuid.uuid4()\n",
    "experiment_id"
   ],
   "id": "d4a3a7d678afd257",
   "outputs": [
    {
     "data": {
      "text/plain": [
       "UUID('d85911ab-8561-47fd-8de4-8ed1f0450ea1')"
      ]
     },
     "execution_count": 88,
     "metadata": {},
     "output_type": "execute_result"
    }
   ],
   "execution_count": 88
  },
  {
   "metadata": {
    "ExecuteTime": {
     "end_time": "2024-06-07T02:55:47.132194Z",
     "start_time": "2024-06-07T02:55:47.128406Z"
    }
   },
   "cell_type": "code",
   "source": [
    "# functions for experiments\n",
    "def calculate_ro(first, second, alphabet):\n",
    "    first_counter = Counter(first)\n",
    "    second_counter = Counter(second)\n",
    "    scalar_product = 0\n",
    "    for letter in alphabet:\n",
    "        scalar_product += (first_counter[letter] / len(first)) * (second_counter[letter] / len(second))\n",
    "    return scalar_product"
   ],
   "id": "8328edd2e4c8fa32",
   "outputs": [],
   "execution_count": 89
  },
  {
   "metadata": {
    "ExecuteTime": {
     "end_time": "2024-06-07T02:55:47.139454Z",
     "start_time": "2024-06-07T02:55:47.133202Z"
    }
   },
   "cell_type": "code",
   "source": [
    "#experiment \n",
    "experiment_metadata = pd.Series(\n",
    "    {\n",
    "        'experiment_id': experiment_id,\n",
    "        'source_string_length': source_string_length,\n",
    "        'insertion_length': insertion_length,\n",
    "        'probabilities': symbol_to_probability,\n",
    "        'step': step,\n",
    "        'eps': eps\n",
    "    },\n",
    "    name='value')\n",
    "experiment_metadata"
   ],
   "id": "65ea6ef51401341f",
   "outputs": [
    {
     "data": {
      "text/plain": [
       "experiment_id               d85911ab-8561-47fd-8de4-8ed1f0450ea1\n",
       "source_string_length                                       10000\n",
       "insertion_length                                             100\n",
       "probabilities           {'A': 0.2, 'C': 0.3, 'G': 0.3, 'T': 0.2}\n",
       "step                                                           5\n",
       "eps                                                            5\n",
       "Name: value, dtype: object"
      ]
     },
     "execution_count": 90,
     "metadata": {},
     "output_type": "execute_result"
    }
   ],
   "execution_count": 90
  },
  {
   "metadata": {
    "ExecuteTime": {
     "end_time": "2024-06-07T02:55:47.145416Z",
     "start_time": "2024-06-07T02:55:47.140460Z"
    }
   },
   "cell_type": "code",
   "source": [
    "generator = np.random.default_rng(experiment_id.int)\n",
    "source_string = generator.choice(list(symbol_to_probability.keys()), size=source_string_length, p=list(symbol_to_probability.values()))\n",
    "source_string"
   ],
   "id": "6b47d15a2073bf45",
   "outputs": [
    {
     "data": {
      "text/plain": [
       "array(['C', 'G', 'G', ..., 'G', 'G', 'C'], dtype='<U1')"
      ]
     },
     "execution_count": 91,
     "metadata": {},
     "output_type": "execute_result"
    }
   ],
   "execution_count": 91
  },
  {
   "metadata": {
    "ExecuteTime": {
     "end_time": "2024-06-07T02:55:47.150620Z",
     "start_time": "2024-06-07T02:55:47.145416Z"
    }
   },
   "cell_type": "code",
   "source": [
    "inserted_string = generator.choice(list(symbol_to_probability.keys()), size=insertion_length)\n",
    "inserted_string"
   ],
   "id": "1bbc6a482500b92b",
   "outputs": [
    {
     "data": {
      "text/plain": [
       "array(['G', 'A', 'T', 'C', 'A', 'T', 'T', 'C', 'T', 'A', 'T', 'C', 'C',\n",
       "       'C', 'C', 'A', 'A', 'G', 'A', 'C', 'A', 'G', 'C', 'T', 'C', 'A',\n",
       "       'C', 'C', 'G', 'G', 'A', 'A', 'C', 'C', 'T', 'T', 'G', 'A', 'C',\n",
       "       'G', 'T', 'A', 'A', 'C', 'G', 'C', 'A', 'T', 'G', 'A', 'G', 'A',\n",
       "       'C', 'G', 'G', 'G', 'T', 'C', 'T', 'G', 'A', 'A', 'A', 'A', 'C',\n",
       "       'G', 'C', 'A', 'G', 'G', 'G', 'T', 'T', 'C', 'T', 'T', 'G', 'C',\n",
       "       'C', 'A', 'T', 'G', 'G', 'T', 'G', 'G', 'C', 'A', 'G', 'T', 'G',\n",
       "       'C', 'A', 'C', 'C', 'A', 'G', 'C', 'A', 'T'], dtype='<U1')"
      ]
     },
     "execution_count": 92,
     "metadata": {},
     "output_type": "execute_result"
    }
   ],
   "execution_count": 92
  },
  {
   "metadata": {
    "ExecuteTime": {
     "end_time": "2024-06-07T02:55:47.156312Z",
     "start_time": "2024-06-07T02:55:47.150784Z"
    }
   },
   "cell_type": "code",
   "source": [
    "positions = np.arange(step, stop=source_string_length - 1, step=step)\n",
    "positions"
   ],
   "id": "91ce1d9f9bb98a72",
   "outputs": [
    {
     "data": {
      "text/plain": [
       "array([   5,   10,   15, ..., 9985, 9990, 9995])"
      ]
     },
     "execution_count": 93,
     "metadata": {},
     "output_type": "execute_result"
    }
   ],
   "execution_count": 93
  },
  {
   "metadata": {
    "ExecuteTime": {
     "end_time": "2024-06-07T02:55:47.206844Z",
     "start_time": "2024-06-07T02:55:47.156312Z"
    }
   },
   "cell_type": "code",
   "source": [
    "strings_with_insertion = [np.insert(source_string.copy(), pos, inserted_string) for pos in positions ]\n",
    "print(inserted_string)\n",
    "print(source_string[0:11])\n",
    "print(strings_with_insertion[0][:11])"
   ],
   "id": "2a53182acb6ef3be",
   "outputs": [
    {
     "name": "stdout",
     "output_type": "stream",
     "text": [
      "['G' 'A' 'T' 'C' 'A' 'T' 'T' 'C' 'T' 'A' 'T' 'C' 'C' 'C' 'C' 'A' 'A' 'G'\n",
      " 'A' 'C' 'A' 'G' 'C' 'T' 'C' 'A' 'C' 'C' 'G' 'G' 'A' 'A' 'C' 'C' 'T' 'T'\n",
      " 'G' 'A' 'C' 'G' 'T' 'A' 'A' 'C' 'G' 'C' 'A' 'T' 'G' 'A' 'G' 'A' 'C' 'G'\n",
      " 'G' 'G' 'T' 'C' 'T' 'G' 'A' 'A' 'A' 'A' 'C' 'G' 'C' 'A' 'G' 'G' 'G' 'T'\n",
      " 'T' 'C' 'T' 'T' 'G' 'C' 'C' 'A' 'T' 'G' 'G' 'T' 'G' 'G' 'C' 'A' 'G' 'T'\n",
      " 'G' 'C' 'A' 'C' 'C' 'A' 'G' 'C' 'A' 'T']\n",
      "['C' 'G' 'G' 'A' 'A' 'C' 'C' 'G' 'C' 'C' 'G']\n",
      "['C' 'G' 'G' 'A' 'A' 'G' 'A' 'T' 'C' 'A' 'T']\n"
     ]
    }
   ],
   "execution_count": 94
  },
  {
   "metadata": {
    "ExecuteTime": {
     "end_time": "2024-06-07T02:55:47.214474Z",
     "start_time": "2024-06-07T02:55:47.206844Z"
    }
   },
   "cell_type": "code",
   "source": [
    "ro = calculate_ro(source_string, strings_with_insertion[0], alphabet=symbol_to_probability.keys())\n",
    "ro"
   ],
   "id": "20922563ddf0c29d",
   "outputs": [
    {
     "data": {
      "text/plain": [
       "0.260729504950495"
      ]
     },
     "execution_count": 95,
     "metadata": {},
     "output_type": "execute_result"
    }
   ],
   "execution_count": 95
  },
  {
   "metadata": {
    "ExecuteTime": {
     "end_time": "2024-06-07T02:56:18.862602Z",
     "start_time": "2024-06-07T02:55:47.215483Z"
    }
   },
   "cell_type": "code",
   "source": [
    "convolutions = np.array([get_convolution(source_string, string_with_insertion) for string_with_insertion in strings_with_insertion])\n",
    "convolutions"
   ],
   "id": "7ae402d72b2908b0",
   "outputs": [
    {
     "data": {
      "text/plain": [
       "array([[ 1.00000000e+00, -1.13686838e-13,  1.00000000e+00, ...,\n",
       "         1.00000000e+00, -1.70530257e-13,  1.00000000e+00],\n",
       "       [ 1.00000000e+00,  5.68434189e-14,  1.00000000e+00, ...,\n",
       "         1.00000000e+00, -1.13686838e-13,  1.00000000e+00],\n",
       "       [ 1.00000000e+00,  1.13686838e-13,  1.00000000e+00, ...,\n",
       "         1.00000000e+00,  0.00000000e+00,  1.00000000e+00],\n",
       "       ...,\n",
       "       [ 1.00000000e+00,  1.13686838e-13,  1.00000000e+00, ...,\n",
       "         1.00000000e+00,  1.13686838e-13,  1.00000000e+00],\n",
       "       [ 1.00000000e+00, -1.13686838e-13,  1.00000000e+00, ...,\n",
       "         1.00000000e+00,  0.00000000e+00,  1.00000000e+00],\n",
       "       [ 1.00000000e+00,  1.13686838e-13,  1.00000000e+00, ...,\n",
       "         1.00000000e+00, -5.68434189e-14,  1.00000000e+00]])"
      ]
     },
     "execution_count": 96,
     "metadata": {},
     "output_type": "execute_result"
    }
   ],
   "execution_count": 96
  },
  {
   "metadata": {
    "ExecuteTime": {
     "end_time": "2024-06-07T02:56:19.043475Z",
     "start_time": "2024-06-07T02:56:18.863611Z"
    }
   },
   "cell_type": "code",
   "source": [
    "convolution_results = pd.DataFrame()\n",
    "convolution_results['l1'] = source_string_length - positions\n",
    "convolution_results['l2'] = positions\n",
    "# convolution_results['b1'] = [np.partition(c, kth=-1)[-1] for c in convolutions]\n",
    "# convolution_results['b2'] = [np.partition(c, kth=-2)[-2] for c in convolutions]\n",
    "convolution_results['temp_b1'] = [np.partition(c[np.argmax(c) - eps: np.argmax(c) + eps + 1], kth=-1)[-1] for c in convolutions]\n",
    "convolution_results['temp_b2'] = [np.partition(c[np.argmax(c) - eps: np.argmax(c) + eps + 1], kth=-2)[-2] for c in convolutions]\n",
    "\n",
    "# Проверяем условие l2 > l1 и меняем значения местами\n",
    "convolution_results[['b1', 'b2']] = convolution_results.apply(\n",
    "    lambda row: ([row['temp_b2'], row['temp_b1']] if row['l2'] > row['l1'] else [row['temp_b1'], row['temp_b2']]),\n",
    "    axis=1,\n",
    "    result_type='expand'\n",
    ")\n",
    "convolution_results.drop(['temp_b1', 'temp_b2'], inplace=True, axis=1)\n",
    "convolution_results['l1 estimate'] =\\\n",
    "    (convolution_results['b1'] - convolution_results['b2'] * ro + insertion_length * ro ** 2 - insertion_length * ro) / (1 - ro ** 2)\n",
    "convolution_results['l2 estimate'] =\\\n",
    "    (convolution_results['b2'] - convolution_results['b1'] * ro + insertion_length * ro ** 2 - insertion_length * ro) / (1 - ro ** 2)\n",
    "convolution_results['l1 error'] = np.abs(convolution_results['l1 estimate'] - convolution_results['l1']) * 100 / convolution_results['l1']\n",
    "convolution_results['l2 error'] = np.abs(convolution_results['l2 estimate'] - convolution_results['l2']) * 100 / convolution_results['l2']\n",
    "convolution_results['errors sum'] = convolution_results['l1 error'] + convolution_results['l2 error']\n",
    "# convolution_results.\n",
    "\n",
    "convolution_results"
   ],
   "id": "54e6090f8d6ed43d",
   "outputs": [
    {
     "data": {
      "text/plain": [
       "        l1    l2      b1      b2  l1 estimate  l2 estimate     l1 error  \\\n",
       "0     9995     5  9997.0  2679.0  9956.041122    57.093377     0.389784   \n",
       "1     9990    10  9990.0  2682.0  9947.691314    62.270418     0.423510   \n",
       "2     9985    15  9989.0  2680.0  9947.177869    60.404288     0.378789   \n",
       "3     9980    20  9986.0  2681.0  9943.679308    62.316466     0.363935   \n",
       "4     9975    25  9983.0  2678.0  9941.299733    59.936891     0.337847   \n",
       "...    ...   ...     ...     ...          ...          ...          ...   \n",
       "1994    25  9975  2681.0  9979.0    64.274693  9936.168741   157.098771   \n",
       "1995    20  9980  2683.0  9987.0    64.182596  9944.192753   220.912979   \n",
       "1996    15  9985  2682.0  9988.0    62.829911  9945.545438   318.866073   \n",
       "1997    10  9990  2679.0  9990.0    59.051603  9948.530554   490.516031   \n",
       "1998     5  9995  2679.0  9996.0    57.373123  9954.968183  1047.462465   \n",
       "\n",
       "         l2 error   errors sum  \n",
       "0     1041.867532  1042.257315  \n",
       "1      522.704177   523.127688  \n",
       "2      302.695253   303.074043  \n",
       "3      211.582331   211.946265  \n",
       "4      139.747566   140.085413  \n",
       "...           ...          ...  \n",
       "1994     0.389286   157.488056  \n",
       "1995     0.358790   221.271769  \n",
       "1996     0.395138   319.261212  \n",
       "1997     0.415110   490.931141  \n",
       "1998     0.400518  1047.862983  \n",
       "\n",
       "[1999 rows x 9 columns]"
      ],
      "text/html": [
       "<div>\n",
       "<style scoped>\n",
       "    .dataframe tbody tr th:only-of-type {\n",
       "        vertical-align: middle;\n",
       "    }\n",
       "\n",
       "    .dataframe tbody tr th {\n",
       "        vertical-align: top;\n",
       "    }\n",
       "\n",
       "    .dataframe thead th {\n",
       "        text-align: right;\n",
       "    }\n",
       "</style>\n",
       "<table border=\"1\" class=\"dataframe\">\n",
       "  <thead>\n",
       "    <tr style=\"text-align: right;\">\n",
       "      <th></th>\n",
       "      <th>l1</th>\n",
       "      <th>l2</th>\n",
       "      <th>b1</th>\n",
       "      <th>b2</th>\n",
       "      <th>l1 estimate</th>\n",
       "      <th>l2 estimate</th>\n",
       "      <th>l1 error</th>\n",
       "      <th>l2 error</th>\n",
       "      <th>errors sum</th>\n",
       "    </tr>\n",
       "  </thead>\n",
       "  <tbody>\n",
       "    <tr>\n",
       "      <th>0</th>\n",
       "      <td>9995</td>\n",
       "      <td>5</td>\n",
       "      <td>9997.0</td>\n",
       "      <td>2679.0</td>\n",
       "      <td>9956.041122</td>\n",
       "      <td>57.093377</td>\n",
       "      <td>0.389784</td>\n",
       "      <td>1041.867532</td>\n",
       "      <td>1042.257315</td>\n",
       "    </tr>\n",
       "    <tr>\n",
       "      <th>1</th>\n",
       "      <td>9990</td>\n",
       "      <td>10</td>\n",
       "      <td>9990.0</td>\n",
       "      <td>2682.0</td>\n",
       "      <td>9947.691314</td>\n",
       "      <td>62.270418</td>\n",
       "      <td>0.423510</td>\n",
       "      <td>522.704177</td>\n",
       "      <td>523.127688</td>\n",
       "    </tr>\n",
       "    <tr>\n",
       "      <th>2</th>\n",
       "      <td>9985</td>\n",
       "      <td>15</td>\n",
       "      <td>9989.0</td>\n",
       "      <td>2680.0</td>\n",
       "      <td>9947.177869</td>\n",
       "      <td>60.404288</td>\n",
       "      <td>0.378789</td>\n",
       "      <td>302.695253</td>\n",
       "      <td>303.074043</td>\n",
       "    </tr>\n",
       "    <tr>\n",
       "      <th>3</th>\n",
       "      <td>9980</td>\n",
       "      <td>20</td>\n",
       "      <td>9986.0</td>\n",
       "      <td>2681.0</td>\n",
       "      <td>9943.679308</td>\n",
       "      <td>62.316466</td>\n",
       "      <td>0.363935</td>\n",
       "      <td>211.582331</td>\n",
       "      <td>211.946265</td>\n",
       "    </tr>\n",
       "    <tr>\n",
       "      <th>4</th>\n",
       "      <td>9975</td>\n",
       "      <td>25</td>\n",
       "      <td>9983.0</td>\n",
       "      <td>2678.0</td>\n",
       "      <td>9941.299733</td>\n",
       "      <td>59.936891</td>\n",
       "      <td>0.337847</td>\n",
       "      <td>139.747566</td>\n",
       "      <td>140.085413</td>\n",
       "    </tr>\n",
       "    <tr>\n",
       "      <th>...</th>\n",
       "      <td>...</td>\n",
       "      <td>...</td>\n",
       "      <td>...</td>\n",
       "      <td>...</td>\n",
       "      <td>...</td>\n",
       "      <td>...</td>\n",
       "      <td>...</td>\n",
       "      <td>...</td>\n",
       "      <td>...</td>\n",
       "    </tr>\n",
       "    <tr>\n",
       "      <th>1994</th>\n",
       "      <td>25</td>\n",
       "      <td>9975</td>\n",
       "      <td>2681.0</td>\n",
       "      <td>9979.0</td>\n",
       "      <td>64.274693</td>\n",
       "      <td>9936.168741</td>\n",
       "      <td>157.098771</td>\n",
       "      <td>0.389286</td>\n",
       "      <td>157.488056</td>\n",
       "    </tr>\n",
       "    <tr>\n",
       "      <th>1995</th>\n",
       "      <td>20</td>\n",
       "      <td>9980</td>\n",
       "      <td>2683.0</td>\n",
       "      <td>9987.0</td>\n",
       "      <td>64.182596</td>\n",
       "      <td>9944.192753</td>\n",
       "      <td>220.912979</td>\n",
       "      <td>0.358790</td>\n",
       "      <td>221.271769</td>\n",
       "    </tr>\n",
       "    <tr>\n",
       "      <th>1996</th>\n",
       "      <td>15</td>\n",
       "      <td>9985</td>\n",
       "      <td>2682.0</td>\n",
       "      <td>9988.0</td>\n",
       "      <td>62.829911</td>\n",
       "      <td>9945.545438</td>\n",
       "      <td>318.866073</td>\n",
       "      <td>0.395138</td>\n",
       "      <td>319.261212</td>\n",
       "    </tr>\n",
       "    <tr>\n",
       "      <th>1997</th>\n",
       "      <td>10</td>\n",
       "      <td>9990</td>\n",
       "      <td>2679.0</td>\n",
       "      <td>9990.0</td>\n",
       "      <td>59.051603</td>\n",
       "      <td>9948.530554</td>\n",
       "      <td>490.516031</td>\n",
       "      <td>0.415110</td>\n",
       "      <td>490.931141</td>\n",
       "    </tr>\n",
       "    <tr>\n",
       "      <th>1998</th>\n",
       "      <td>5</td>\n",
       "      <td>9995</td>\n",
       "      <td>2679.0</td>\n",
       "      <td>9996.0</td>\n",
       "      <td>57.373123</td>\n",
       "      <td>9954.968183</td>\n",
       "      <td>1047.462465</td>\n",
       "      <td>0.400518</td>\n",
       "      <td>1047.862983</td>\n",
       "    </tr>\n",
       "  </tbody>\n",
       "</table>\n",
       "<p>1999 rows × 9 columns</p>\n",
       "</div>"
      ]
     },
     "execution_count": 97,
     "metadata": {},
     "output_type": "execute_result"
    }
   ],
   "execution_count": 97
  },
  {
   "metadata": {
    "ExecuteTime": {
     "end_time": "2024-06-07T02:56:19.060483Z",
     "start_time": "2024-06-07T02:56:19.044486Z"
    }
   },
   "cell_type": "code",
   "source": [
    "statistics = convolution_results.describe()\n",
    "statistics"
   ],
   "id": "e5cf1b8f56662de7",
   "outputs": [
    {
     "data": {
      "text/plain": [
       "                l1           l2           b1           b2  l1 estimate  \\\n",
       "count  1999.000000  1999.000000  1999.000000  1999.000000  1999.000000   \n",
       "mean   5000.000000  5000.000000  5419.019510  5408.425713  4280.603262   \n",
       "std    2886.029568  2886.029568  2832.561408  2846.171681  3789.944303   \n",
       "min       5.000000     5.000000  2659.000000  2634.000000    57.373123   \n",
       "25%    2502.500000  2502.500000  2688.000000  2664.000000   600.079332   \n",
       "50%    5000.000000  5000.000000  6303.000000  2704.000000  5992.887140   \n",
       "75%    7497.500000  7497.500000  8139.500000  8159.500000  7966.974859   \n",
       "max    9995.000000  9995.000000  9997.000000  9996.000000  9956.041122   \n",
       "\n",
       "       l2 estimate     l1 error     l2 error   errors sum  \n",
       "count  1999.000000  1999.000000  1999.000000  1999.000000  \n",
       "mean   4266.273193    41.167568    42.035668    83.203236  \n",
       "std    3800.868881    42.561194    43.054014    36.928236  \n",
       "min      57.093377     0.001618     0.000348     1.602138  \n",
       "25%     560.210808     6.227972     6.333081    76.784072  \n",
       "50%    1089.404552    19.459827    19.996252    83.603092  \n",
       "75%    7976.684264    76.082281    77.792824    90.378180  \n",
       "max    9954.968183  1047.462465  1041.867532  1047.862983  "
      ],
      "text/html": [
       "<div>\n",
       "<style scoped>\n",
       "    .dataframe tbody tr th:only-of-type {\n",
       "        vertical-align: middle;\n",
       "    }\n",
       "\n",
       "    .dataframe tbody tr th {\n",
       "        vertical-align: top;\n",
       "    }\n",
       "\n",
       "    .dataframe thead th {\n",
       "        text-align: right;\n",
       "    }\n",
       "</style>\n",
       "<table border=\"1\" class=\"dataframe\">\n",
       "  <thead>\n",
       "    <tr style=\"text-align: right;\">\n",
       "      <th></th>\n",
       "      <th>l1</th>\n",
       "      <th>l2</th>\n",
       "      <th>b1</th>\n",
       "      <th>b2</th>\n",
       "      <th>l1 estimate</th>\n",
       "      <th>l2 estimate</th>\n",
       "      <th>l1 error</th>\n",
       "      <th>l2 error</th>\n",
       "      <th>errors sum</th>\n",
       "    </tr>\n",
       "  </thead>\n",
       "  <tbody>\n",
       "    <tr>\n",
       "      <th>count</th>\n",
       "      <td>1999.000000</td>\n",
       "      <td>1999.000000</td>\n",
       "      <td>1999.000000</td>\n",
       "      <td>1999.000000</td>\n",
       "      <td>1999.000000</td>\n",
       "      <td>1999.000000</td>\n",
       "      <td>1999.000000</td>\n",
       "      <td>1999.000000</td>\n",
       "      <td>1999.000000</td>\n",
       "    </tr>\n",
       "    <tr>\n",
       "      <th>mean</th>\n",
       "      <td>5000.000000</td>\n",
       "      <td>5000.000000</td>\n",
       "      <td>5419.019510</td>\n",
       "      <td>5408.425713</td>\n",
       "      <td>4280.603262</td>\n",
       "      <td>4266.273193</td>\n",
       "      <td>41.167568</td>\n",
       "      <td>42.035668</td>\n",
       "      <td>83.203236</td>\n",
       "    </tr>\n",
       "    <tr>\n",
       "      <th>std</th>\n",
       "      <td>2886.029568</td>\n",
       "      <td>2886.029568</td>\n",
       "      <td>2832.561408</td>\n",
       "      <td>2846.171681</td>\n",
       "      <td>3789.944303</td>\n",
       "      <td>3800.868881</td>\n",
       "      <td>42.561194</td>\n",
       "      <td>43.054014</td>\n",
       "      <td>36.928236</td>\n",
       "    </tr>\n",
       "    <tr>\n",
       "      <th>min</th>\n",
       "      <td>5.000000</td>\n",
       "      <td>5.000000</td>\n",
       "      <td>2659.000000</td>\n",
       "      <td>2634.000000</td>\n",
       "      <td>57.373123</td>\n",
       "      <td>57.093377</td>\n",
       "      <td>0.001618</td>\n",
       "      <td>0.000348</td>\n",
       "      <td>1.602138</td>\n",
       "    </tr>\n",
       "    <tr>\n",
       "      <th>25%</th>\n",
       "      <td>2502.500000</td>\n",
       "      <td>2502.500000</td>\n",
       "      <td>2688.000000</td>\n",
       "      <td>2664.000000</td>\n",
       "      <td>600.079332</td>\n",
       "      <td>560.210808</td>\n",
       "      <td>6.227972</td>\n",
       "      <td>6.333081</td>\n",
       "      <td>76.784072</td>\n",
       "    </tr>\n",
       "    <tr>\n",
       "      <th>50%</th>\n",
       "      <td>5000.000000</td>\n",
       "      <td>5000.000000</td>\n",
       "      <td>6303.000000</td>\n",
       "      <td>2704.000000</td>\n",
       "      <td>5992.887140</td>\n",
       "      <td>1089.404552</td>\n",
       "      <td>19.459827</td>\n",
       "      <td>19.996252</td>\n",
       "      <td>83.603092</td>\n",
       "    </tr>\n",
       "    <tr>\n",
       "      <th>75%</th>\n",
       "      <td>7497.500000</td>\n",
       "      <td>7497.500000</td>\n",
       "      <td>8139.500000</td>\n",
       "      <td>8159.500000</td>\n",
       "      <td>7966.974859</td>\n",
       "      <td>7976.684264</td>\n",
       "      <td>76.082281</td>\n",
       "      <td>77.792824</td>\n",
       "      <td>90.378180</td>\n",
       "    </tr>\n",
       "    <tr>\n",
       "      <th>max</th>\n",
       "      <td>9995.000000</td>\n",
       "      <td>9995.000000</td>\n",
       "      <td>9997.000000</td>\n",
       "      <td>9996.000000</td>\n",
       "      <td>9956.041122</td>\n",
       "      <td>9954.968183</td>\n",
       "      <td>1047.462465</td>\n",
       "      <td>1041.867532</td>\n",
       "      <td>1047.862983</td>\n",
       "    </tr>\n",
       "  </tbody>\n",
       "</table>\n",
       "</div>"
      ]
     },
     "execution_count": 98,
     "metadata": {},
     "output_type": "execute_result"
    }
   ],
   "execution_count": 98
  },
  {
   "metadata": {
    "ExecuteTime": {
     "end_time": "2024-06-07T02:56:19.071689Z",
     "start_time": "2024-06-07T02:56:19.060483Z"
    }
   },
   "cell_type": "code",
   "source": [
    "errors_sum_twenty_five_percentile = convolution_results[convolution_results['errors sum'] < convolution_results['errors sum'].quantile(0.25)]\n",
    "errors_sum_twenty_five_percentile"
   ],
   "id": "c5996e1a4fad5a9d",
   "outputs": [
    {
     "data": {
      "text/plain": [
       "        l1    l2      b1      b2  l1 estimate  l2 estimate   l1 error  \\\n",
       "6     9965    35  9969.0  2674.0  9927.397585    59.561592   0.377345   \n",
       "7     9960    40  9971.0  2680.0  9927.864982    65.439728   0.322641   \n",
       "8     9955    45  9965.0  2677.0  9922.266592    63.899393   0.328814   \n",
       "9     9950    50  9958.0  2680.0  9913.916785    69.076434   0.362645   \n",
       "10    9945    55  9958.0  2680.0  9913.916785    69.076434   0.312551   \n",
       "...    ...   ...     ...     ...          ...          ...        ...   \n",
       "1987    60  9940  2677.0  9951.0    67.815846  9907.245458  13.026410   \n",
       "1988    55  9945  2682.0  9959.0    70.942564  9914.430230  28.986480   \n",
       "1989    50  9950  2683.0  9963.0    70.896515  9918.442236  41.793031   \n",
       "1990    45  9955  2678.0  9965.0    64.972331  9921.986846  44.382958   \n",
       "1991    40  9960  2681.0  9970.0    66.792412  9926.512297  66.981031   \n",
       "\n",
       "       l2 error  errors sum  \n",
       "6     70.175976   70.553321  \n",
       "7     63.599319   63.921960  \n",
       "8     41.998651   42.327465  \n",
       "9     38.152868   38.515513  \n",
       "10    25.593516   25.906068  \n",
       "...         ...         ...  \n",
       "1987   0.329523   13.355932  \n",
       "1988   0.307388   29.293868  \n",
       "1989   0.317163   42.110194  \n",
       "1990   0.331624   44.714582  \n",
       "1991   0.336222   67.317253  \n",
       "\n",
       "[500 rows x 9 columns]"
      ],
      "text/html": [
       "<div>\n",
       "<style scoped>\n",
       "    .dataframe tbody tr th:only-of-type {\n",
       "        vertical-align: middle;\n",
       "    }\n",
       "\n",
       "    .dataframe tbody tr th {\n",
       "        vertical-align: top;\n",
       "    }\n",
       "\n",
       "    .dataframe thead th {\n",
       "        text-align: right;\n",
       "    }\n",
       "</style>\n",
       "<table border=\"1\" class=\"dataframe\">\n",
       "  <thead>\n",
       "    <tr style=\"text-align: right;\">\n",
       "      <th></th>\n",
       "      <th>l1</th>\n",
       "      <th>l2</th>\n",
       "      <th>b1</th>\n",
       "      <th>b2</th>\n",
       "      <th>l1 estimate</th>\n",
       "      <th>l2 estimate</th>\n",
       "      <th>l1 error</th>\n",
       "      <th>l2 error</th>\n",
       "      <th>errors sum</th>\n",
       "    </tr>\n",
       "  </thead>\n",
       "  <tbody>\n",
       "    <tr>\n",
       "      <th>6</th>\n",
       "      <td>9965</td>\n",
       "      <td>35</td>\n",
       "      <td>9969.0</td>\n",
       "      <td>2674.0</td>\n",
       "      <td>9927.397585</td>\n",
       "      <td>59.561592</td>\n",
       "      <td>0.377345</td>\n",
       "      <td>70.175976</td>\n",
       "      <td>70.553321</td>\n",
       "    </tr>\n",
       "    <tr>\n",
       "      <th>7</th>\n",
       "      <td>9960</td>\n",
       "      <td>40</td>\n",
       "      <td>9971.0</td>\n",
       "      <td>2680.0</td>\n",
       "      <td>9927.864982</td>\n",
       "      <td>65.439728</td>\n",
       "      <td>0.322641</td>\n",
       "      <td>63.599319</td>\n",
       "      <td>63.921960</td>\n",
       "    </tr>\n",
       "    <tr>\n",
       "      <th>8</th>\n",
       "      <td>9955</td>\n",
       "      <td>45</td>\n",
       "      <td>9965.0</td>\n",
       "      <td>2677.0</td>\n",
       "      <td>9922.266592</td>\n",
       "      <td>63.899393</td>\n",
       "      <td>0.328814</td>\n",
       "      <td>41.998651</td>\n",
       "      <td>42.327465</td>\n",
       "    </tr>\n",
       "    <tr>\n",
       "      <th>9</th>\n",
       "      <td>9950</td>\n",
       "      <td>50</td>\n",
       "      <td>9958.0</td>\n",
       "      <td>2680.0</td>\n",
       "      <td>9913.916785</td>\n",
       "      <td>69.076434</td>\n",
       "      <td>0.362645</td>\n",
       "      <td>38.152868</td>\n",
       "      <td>38.515513</td>\n",
       "    </tr>\n",
       "    <tr>\n",
       "      <th>10</th>\n",
       "      <td>9945</td>\n",
       "      <td>55</td>\n",
       "      <td>9958.0</td>\n",
       "      <td>2680.0</td>\n",
       "      <td>9913.916785</td>\n",
       "      <td>69.076434</td>\n",
       "      <td>0.312551</td>\n",
       "      <td>25.593516</td>\n",
       "      <td>25.906068</td>\n",
       "    </tr>\n",
       "    <tr>\n",
       "      <th>...</th>\n",
       "      <td>...</td>\n",
       "      <td>...</td>\n",
       "      <td>...</td>\n",
       "      <td>...</td>\n",
       "      <td>...</td>\n",
       "      <td>...</td>\n",
       "      <td>...</td>\n",
       "      <td>...</td>\n",
       "      <td>...</td>\n",
       "    </tr>\n",
       "    <tr>\n",
       "      <th>1987</th>\n",
       "      <td>60</td>\n",
       "      <td>9940</td>\n",
       "      <td>2677.0</td>\n",
       "      <td>9951.0</td>\n",
       "      <td>67.815846</td>\n",
       "      <td>9907.245458</td>\n",
       "      <td>13.026410</td>\n",
       "      <td>0.329523</td>\n",
       "      <td>13.355932</td>\n",
       "    </tr>\n",
       "    <tr>\n",
       "      <th>1988</th>\n",
       "      <td>55</td>\n",
       "      <td>9945</td>\n",
       "      <td>2682.0</td>\n",
       "      <td>9959.0</td>\n",
       "      <td>70.942564</td>\n",
       "      <td>9914.430230</td>\n",
       "      <td>28.986480</td>\n",
       "      <td>0.307388</td>\n",
       "      <td>29.293868</td>\n",
       "    </tr>\n",
       "    <tr>\n",
       "      <th>1989</th>\n",
       "      <td>50</td>\n",
       "      <td>9950</td>\n",
       "      <td>2683.0</td>\n",
       "      <td>9963.0</td>\n",
       "      <td>70.896515</td>\n",
       "      <td>9918.442236</td>\n",
       "      <td>41.793031</td>\n",
       "      <td>0.317163</td>\n",
       "      <td>42.110194</td>\n",
       "    </tr>\n",
       "    <tr>\n",
       "      <th>1990</th>\n",
       "      <td>45</td>\n",
       "      <td>9955</td>\n",
       "      <td>2678.0</td>\n",
       "      <td>9965.0</td>\n",
       "      <td>64.972331</td>\n",
       "      <td>9921.986846</td>\n",
       "      <td>44.382958</td>\n",
       "      <td>0.331624</td>\n",
       "      <td>44.714582</td>\n",
       "    </tr>\n",
       "    <tr>\n",
       "      <th>1991</th>\n",
       "      <td>40</td>\n",
       "      <td>9960</td>\n",
       "      <td>2681.0</td>\n",
       "      <td>9970.0</td>\n",
       "      <td>66.792412</td>\n",
       "      <td>9926.512297</td>\n",
       "      <td>66.981031</td>\n",
       "      <td>0.336222</td>\n",
       "      <td>67.317253</td>\n",
       "    </tr>\n",
       "  </tbody>\n",
       "</table>\n",
       "<p>500 rows × 9 columns</p>\n",
       "</div>"
      ]
     },
     "execution_count": 99,
     "metadata": {},
     "output_type": "execute_result"
    }
   ],
   "execution_count": 99
  },
  {
   "metadata": {
    "ExecuteTime": {
     "end_time": "2024-06-07T02:56:19.533632Z",
     "start_time": "2024-06-07T02:56:19.071689Z"
    }
   },
   "cell_type": "code",
   "source": [
    "with pd.ExcelWriter(f'artifacts/{experiment_id}.xlsx') as writer:\n",
    "    convolution_results.to_excel(writer, sheet_name='Conclusions table')\n",
    "    statistics.to_excel(writer, sheet_name='Statistics table')\n",
    "    experiment_metadata.to_excel(writer, sheet_name='Metadata')\n",
    "    errors_sum_twenty_five_percentile.to_excel(writer, sheet_name='Errors twenty five percentile')"
   ],
   "id": "2eaccee0c1ac60f0",
   "outputs": [],
   "execution_count": 100
  },
  {
   "metadata": {
    "ExecuteTime": {
     "end_time": "2024-06-07T02:56:19.538690Z",
     "start_time": "2024-06-07T02:56:19.535641Z"
    }
   },
   "cell_type": "code",
   "source": "",
   "id": "be02df95fc0be3f4",
   "outputs": [],
   "execution_count": 100
  },
  {
   "metadata": {
    "ExecuteTime": {
     "end_time": "2024-06-07T02:56:19.542223Z",
     "start_time": "2024-06-07T02:56:19.539703Z"
    }
   },
   "cell_type": "code",
   "source": "",
   "id": "eba2cbc5c247a172",
   "outputs": [],
   "execution_count": 100
  }
 ],
 "metadata": {
  "kernelspec": {
   "display_name": "Python 3",
   "language": "python",
   "name": "python3"
  },
  "language_info": {
   "codemirror_mode": {
    "name": "ipython",
    "version": 2
   },
   "file_extension": ".py",
   "mimetype": "text/x-python",
   "name": "python",
   "nbconvert_exporter": "python",
   "pygments_lexer": "ipython2",
   "version": "2.7.6"
  }
 },
 "nbformat": 4,
 "nbformat_minor": 5
}
