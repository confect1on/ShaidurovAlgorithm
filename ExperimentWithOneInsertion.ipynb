{
 "cells": [
  {
   "cell_type": "code",
   "id": "initial_id",
   "metadata": {
    "collapsed": true,
    "ExecuteTime": {
     "end_time": "2024-06-07T01:54:29.668740Z",
     "start_time": "2024-06-07T01:54:29.665096Z"
    }
   },
   "source": [
    "from numba import njit\n",
    "import uuid\n",
    "from collections import Counter\n",
    "import timeit\n",
    "import numpy as np\n",
    "import pandas as pd\n",
    "\n",
    "from ShaidurovAlgorithm import get_convolution"
   ],
   "outputs": [],
   "execution_count": 23
  },
  {
   "metadata": {
    "ExecuteTime": {
     "end_time": "2024-06-07T01:54:29.675917Z",
     "start_time": "2024-06-07T01:54:29.669739Z"
    }
   },
   "cell_type": "code",
   "source": [
    "#constants for experiment\n",
    "symbol_to_probability = {'A': 0.2, 'C': 0.3, 'G': 0.3, 'T': 0.2 }\n",
    "source_string_length = 10_000\n",
    "insertion_length = 1\n",
    "step = 5\n",
    "eps = 5\n",
    "experiment_id = uuid.uuid4()\n",
    "experiment_id"
   ],
   "id": "d4a3a7d678afd257",
   "outputs": [
    {
     "data": {
      "text/plain": [
       "UUID('4fa3543c-82cd-4caa-99f3-3ead1c0bb0e6')"
      ]
     },
     "execution_count": 24,
     "metadata": {},
     "output_type": "execute_result"
    }
   ],
   "execution_count": 24
  },
  {
   "metadata": {
    "ExecuteTime": {
     "end_time": "2024-06-07T01:54:29.680952Z",
     "start_time": "2024-06-07T01:54:29.676912Z"
    }
   },
   "cell_type": "code",
   "source": [
    "# functions for experiments\n",
    "def calculate_ro(first, second, alphabet):\n",
    "    first_counter = Counter(first)\n",
    "    second_counter = Counter(second)\n",
    "    scalar_product = 0\n",
    "    for letter in alphabet:\n",
    "        scalar_product += (first_counter[letter] / len(first)) * (second_counter[letter] / len(second))\n",
    "    return scalar_product"
   ],
   "id": "8328edd2e4c8fa32",
   "outputs": [],
   "execution_count": 25
  },
  {
   "metadata": {
    "ExecuteTime": {
     "end_time": "2024-06-07T01:54:29.688950Z",
     "start_time": "2024-06-07T01:54:29.680952Z"
    }
   },
   "cell_type": "code",
   "source": [
    "#experiment \n",
    "experiment_metadata = pd.Series(\n",
    "    {\n",
    "        'experiment_id': experiment_id,\n",
    "        'source_string_length': source_string_length,\n",
    "        'insertion_length': insertion_length,\n",
    "        'probabilities': symbol_to_probability,\n",
    "        'step': step,\n",
    "        'eps': eps\n",
    "    },\n",
    "    name='value')\n",
    "experiment_metadata"
   ],
   "id": "65ea6ef51401341f",
   "outputs": [
    {
     "data": {
      "text/plain": [
       "experiment_id               4fa3543c-82cd-4caa-99f3-3ead1c0bb0e6\n",
       "source_string_length                                       10000\n",
       "insertion_length                                               1\n",
       "probabilities           {'A': 0.2, 'C': 0.3, 'G': 0.3, 'T': 0.2}\n",
       "step                                                           5\n",
       "eps                                                            5\n",
       "Name: value, dtype: object"
      ]
     },
     "execution_count": 26,
     "metadata": {},
     "output_type": "execute_result"
    }
   ],
   "execution_count": 26
  },
  {
   "metadata": {
    "ExecuteTime": {
     "end_time": "2024-06-07T01:54:29.694852Z",
     "start_time": "2024-06-07T01:54:29.689949Z"
    }
   },
   "cell_type": "code",
   "source": [
    "generator = np.random.default_rng(experiment_id.int)\n",
    "source_string = generator.choice(list(symbol_to_probability.keys()), size=source_string_length, p=list(symbol_to_probability.values()))\n",
    "source_string"
   ],
   "id": "6b47d15a2073bf45",
   "outputs": [
    {
     "data": {
      "text/plain": [
       "array(['G', 'C', 'A', ..., 'G', 'C', 'A'], dtype='<U1')"
      ]
     },
     "execution_count": 27,
     "metadata": {},
     "output_type": "execute_result"
    }
   ],
   "execution_count": 27
  },
  {
   "metadata": {
    "ExecuteTime": {
     "end_time": "2024-06-07T01:54:29.700093Z",
     "start_time": "2024-06-07T01:54:29.694852Z"
    }
   },
   "cell_type": "code",
   "source": [
    "inserted_string = generator.choice(list(symbol_to_probability.keys()), size=insertion_length)\n",
    "inserted_string"
   ],
   "id": "1bbc6a482500b92b",
   "outputs": [
    {
     "data": {
      "text/plain": [
       "array(['A'], dtype='<U1')"
      ]
     },
     "execution_count": 28,
     "metadata": {},
     "output_type": "execute_result"
    }
   ],
   "execution_count": 28
  },
  {
   "metadata": {
    "ExecuteTime": {
     "end_time": "2024-06-07T01:54:29.705771Z",
     "start_time": "2024-06-07T01:54:29.700093Z"
    }
   },
   "cell_type": "code",
   "source": [
    "positions = np.arange(step, stop=source_string_length - 1, step=step)\n",
    "positions"
   ],
   "id": "91ce1d9f9bb98a72",
   "outputs": [
    {
     "data": {
      "text/plain": [
       "array([   5,   10,   15, ..., 9985, 9990, 9995])"
      ]
     },
     "execution_count": 29,
     "metadata": {},
     "output_type": "execute_result"
    }
   ],
   "execution_count": 29
  },
  {
   "metadata": {
    "ExecuteTime": {
     "end_time": "2024-06-07T01:54:29.764770Z",
     "start_time": "2024-06-07T01:54:29.705771Z"
    }
   },
   "cell_type": "code",
   "source": [
    "strings_with_insertion = [np.insert(source_string.copy(), pos, inserted_string) for pos in positions ]\n",
    "print(inserted_string)\n",
    "print(source_string[0:11])\n",
    "print(strings_with_insertion[0][:11])"
   ],
   "id": "2a53182acb6ef3be",
   "outputs": [
    {
     "name": "stdout",
     "output_type": "stream",
     "text": [
      "['A']\n",
      "['G' 'C' 'A' 'A' 'C' 'T' 'C' 'C' 'G' 'C' 'C']\n",
      "['G' 'C' 'A' 'A' 'C' 'A' 'T' 'C' 'C' 'G' 'C']\n"
     ]
    }
   ],
   "execution_count": 30
  },
  {
   "metadata": {
    "ExecuteTime": {
     "end_time": "2024-06-07T01:54:29.773142Z",
     "start_time": "2024-06-07T01:54:29.765773Z"
    }
   },
   "cell_type": "code",
   "source": [
    "ro = calculate_ro(source_string, strings_with_insertion[0], alphabet=symbol_to_probability.keys())\n",
    "ro"
   ],
   "id": "20922563ddf0c29d",
   "outputs": [
    {
     "data": {
      "text/plain": [
       "0.25824253574642536"
      ]
     },
     "execution_count": 31,
     "metadata": {},
     "output_type": "execute_result"
    }
   ],
   "execution_count": 31
  },
  {
   "metadata": {
    "ExecuteTime": {
     "end_time": "2024-06-07T01:55:03.634072Z",
     "start_time": "2024-06-07T01:54:29.774140Z"
    }
   },
   "cell_type": "code",
   "source": [
    "convolutions = np.array([get_convolution(source_string, string_with_insertion) for string_with_insertion in strings_with_insertion])\n",
    "convolutions"
   ],
   "id": "7ae402d72b2908b0",
   "outputs": [
    {
     "data": {
      "text/plain": [
       "array([[-1.70530257e-13, -2.27373675e-13,  3.00000000e+00, ...,\n",
       "         3.00000000e+00,  1.70530257e-13,  2.84217094e-13],\n",
       "       [ 0.00000000e+00, -1.13686838e-13,  3.00000000e+00, ...,\n",
       "         3.00000000e+00, -1.13686838e-13,  3.41060513e-13],\n",
       "       [ 0.00000000e+00, -1.13686838e-13,  3.00000000e+00, ...,\n",
       "         3.00000000e+00,  0.00000000e+00, -1.13686838e-13],\n",
       "       ...,\n",
       "       [ 0.00000000e+00,  0.00000000e+00,  3.00000000e+00, ...,\n",
       "         3.00000000e+00,  5.68434189e-14, -1.70530257e-13],\n",
       "       [ 5.68434189e-14,  1.70530257e-13,  3.00000000e+00, ...,\n",
       "         3.00000000e+00, -3.41060513e-13,  1.70530257e-13],\n",
       "       [-5.68434189e-14, -1.13686838e-13,  3.00000000e+00, ...,\n",
       "         3.00000000e+00,  2.84217094e-13, -1.70530257e-13]])"
      ]
     },
     "execution_count": 32,
     "metadata": {},
     "output_type": "execute_result"
    }
   ],
   "execution_count": 32
  },
  {
   "metadata": {
    "ExecuteTime": {
     "end_time": "2024-06-07T01:59:26.381316Z",
     "start_time": "2024-06-07T01:59:26.269047Z"
    }
   },
   "cell_type": "code",
   "source": [
    "convolution_results = pd.DataFrame()\n",
    "convolution_results['l1'] = source_string_length - positions\n",
    "convolution_results['l2'] = positions\n",
    "# convolution_results['b1'] = [np.partition(c, kth=-1)[-1] for c in convolutions]\n",
    "# convolution_results['b2'] = [np.partition(c, kth=-2)[-2] for c in convolutions]\n",
    "convolution_results['temp_b1'] = [np.partition(c[np.argmax(c) - eps: np.argmax(c) + eps + 1], kth=-1)[-1] for c in convolutions]\n",
    "convolution_results['temp_b2'] = [np.partition(c[np.argmax(c) - eps: np.argmax(c) + eps + 1], kth=-2)[-2] for c in convolutions]\n",
    "\n",
    "# Проверяем условие l2 > l1 и меняем значения местами\n",
    "convolution_results[['b1', 'b2']] = convolution_results.apply(\n",
    "    lambda row: ([row['temp_b2'], row['temp_b1']] if row['l2'] > row['l1'] else [row['temp_b1'], row['temp_b2']]),\n",
    "    axis=1,\n",
    "    result_type='expand'\n",
    ")\n",
    "convolution_results.drop(['temp_b1', 'temp_b2'], inplace=True, axis=1)\n",
    "convolution_results['l1 estimate'] = (convolution_results['b1'] - convolution_results['b2'] * ro) / (1 - ro ** 2)\n",
    "convolution_results['l2 estimate'] = (convolution_results['b2'] - convolution_results['b1'] * ro) / (1 - ro ** 2)\n",
    "convolution_results['l1 error'] = np.abs(convolution_results['l1 estimate'] - convolution_results['l1']) * 100 / convolution_results['l1']\n",
    "convolution_results['l2 error'] = np.abs(convolution_results['l2 estimate'] - convolution_results['l2']) * 100 / convolution_results['l2']\n",
    "convolution_results['errors sum'] = convolution_results['l1 error'] + convolution_results['l2 error']\n",
    "# convolution_results.\n",
    "\n",
    "convolution_results"
   ],
   "id": "54e6090f8d6ed43d",
   "outputs": [
    {
     "data": {
      "text/plain": [
       "        l1    l2      b1      b2  l1 estimate  l2 estimate    l1 error  \\\n",
       "0     9995     5  9996.0  2610.0  9988.084413    30.651754    0.069190   \n",
       "1     9990    10  9992.0  2611.0  9983.521900    32.829989    0.064846   \n",
       "2     9985    15  9991.0  2613.0  9981.897056    35.249593    0.031076   \n",
       "3     9980    20  9987.0  2614.0  9977.334543    37.427828    0.026708   \n",
       "4     9975    25  9984.0  2614.0  9974.120180    38.257913    0.008820   \n",
       "...    ...   ...     ...     ...          ...          ...         ...   \n",
       "1994    25  9975  2614.0  9979.0    39.641389  9968.762907   58.565554   \n",
       "1995    20  9980  2612.0  9984.0    36.115004  9974.673570   80.575021   \n",
       "1996    15  9985  2608.0  9988.0    30.722406  9980.066168  104.816039   \n",
       "1997    10  9990  2609.0  9992.0    30.687080  9984.075291  206.870799   \n",
       "1998     5  9995  2609.0  9995.0    29.856995  9987.289654  497.139890   \n",
       "\n",
       "        l2 error  errors sum  \n",
       "0     513.035077  513.104267  \n",
       "1     228.299887  228.364733  \n",
       "2     134.997285  135.028361  \n",
       "3      87.139138   87.165846  \n",
       "4      53.031652   53.040472  \n",
       "...          ...         ...  \n",
       "1994    0.062527   58.628082  \n",
       "1995    0.053371   80.628392  \n",
       "1996    0.049412  104.865451  \n",
       "1997    0.059306  206.930105  \n",
       "1998    0.077142  497.217032  \n",
       "\n",
       "[1999 rows x 9 columns]"
      ],
      "text/html": [
       "<div>\n",
       "<style scoped>\n",
       "    .dataframe tbody tr th:only-of-type {\n",
       "        vertical-align: middle;\n",
       "    }\n",
       "\n",
       "    .dataframe tbody tr th {\n",
       "        vertical-align: top;\n",
       "    }\n",
       "\n",
       "    .dataframe thead th {\n",
       "        text-align: right;\n",
       "    }\n",
       "</style>\n",
       "<table border=\"1\" class=\"dataframe\">\n",
       "  <thead>\n",
       "    <tr style=\"text-align: right;\">\n",
       "      <th></th>\n",
       "      <th>l1</th>\n",
       "      <th>l2</th>\n",
       "      <th>b1</th>\n",
       "      <th>b2</th>\n",
       "      <th>l1 estimate</th>\n",
       "      <th>l2 estimate</th>\n",
       "      <th>l1 error</th>\n",
       "      <th>l2 error</th>\n",
       "      <th>errors sum</th>\n",
       "    </tr>\n",
       "  </thead>\n",
       "  <tbody>\n",
       "    <tr>\n",
       "      <th>0</th>\n",
       "      <td>9995</td>\n",
       "      <td>5</td>\n",
       "      <td>9996.0</td>\n",
       "      <td>2610.0</td>\n",
       "      <td>9988.084413</td>\n",
       "      <td>30.651754</td>\n",
       "      <td>0.069190</td>\n",
       "      <td>513.035077</td>\n",
       "      <td>513.104267</td>\n",
       "    </tr>\n",
       "    <tr>\n",
       "      <th>1</th>\n",
       "      <td>9990</td>\n",
       "      <td>10</td>\n",
       "      <td>9992.0</td>\n",
       "      <td>2611.0</td>\n",
       "      <td>9983.521900</td>\n",
       "      <td>32.829989</td>\n",
       "      <td>0.064846</td>\n",
       "      <td>228.299887</td>\n",
       "      <td>228.364733</td>\n",
       "    </tr>\n",
       "    <tr>\n",
       "      <th>2</th>\n",
       "      <td>9985</td>\n",
       "      <td>15</td>\n",
       "      <td>9991.0</td>\n",
       "      <td>2613.0</td>\n",
       "      <td>9981.897056</td>\n",
       "      <td>35.249593</td>\n",
       "      <td>0.031076</td>\n",
       "      <td>134.997285</td>\n",
       "      <td>135.028361</td>\n",
       "    </tr>\n",
       "    <tr>\n",
       "      <th>3</th>\n",
       "      <td>9980</td>\n",
       "      <td>20</td>\n",
       "      <td>9987.0</td>\n",
       "      <td>2614.0</td>\n",
       "      <td>9977.334543</td>\n",
       "      <td>37.427828</td>\n",
       "      <td>0.026708</td>\n",
       "      <td>87.139138</td>\n",
       "      <td>87.165846</td>\n",
       "    </tr>\n",
       "    <tr>\n",
       "      <th>4</th>\n",
       "      <td>9975</td>\n",
       "      <td>25</td>\n",
       "      <td>9984.0</td>\n",
       "      <td>2614.0</td>\n",
       "      <td>9974.120180</td>\n",
       "      <td>38.257913</td>\n",
       "      <td>0.008820</td>\n",
       "      <td>53.031652</td>\n",
       "      <td>53.040472</td>\n",
       "    </tr>\n",
       "    <tr>\n",
       "      <th>...</th>\n",
       "      <td>...</td>\n",
       "      <td>...</td>\n",
       "      <td>...</td>\n",
       "      <td>...</td>\n",
       "      <td>...</td>\n",
       "      <td>...</td>\n",
       "      <td>...</td>\n",
       "      <td>...</td>\n",
       "      <td>...</td>\n",
       "    </tr>\n",
       "    <tr>\n",
       "      <th>1994</th>\n",
       "      <td>25</td>\n",
       "      <td>9975</td>\n",
       "      <td>2614.0</td>\n",
       "      <td>9979.0</td>\n",
       "      <td>39.641389</td>\n",
       "      <td>9968.762907</td>\n",
       "      <td>58.565554</td>\n",
       "      <td>0.062527</td>\n",
       "      <td>58.628082</td>\n",
       "    </tr>\n",
       "    <tr>\n",
       "      <th>1995</th>\n",
       "      <td>20</td>\n",
       "      <td>9980</td>\n",
       "      <td>2612.0</td>\n",
       "      <td>9984.0</td>\n",
       "      <td>36.115004</td>\n",
       "      <td>9974.673570</td>\n",
       "      <td>80.575021</td>\n",
       "      <td>0.053371</td>\n",
       "      <td>80.628392</td>\n",
       "    </tr>\n",
       "    <tr>\n",
       "      <th>1996</th>\n",
       "      <td>15</td>\n",
       "      <td>9985</td>\n",
       "      <td>2608.0</td>\n",
       "      <td>9988.0</td>\n",
       "      <td>30.722406</td>\n",
       "      <td>9980.066168</td>\n",
       "      <td>104.816039</td>\n",
       "      <td>0.049412</td>\n",
       "      <td>104.865451</td>\n",
       "    </tr>\n",
       "    <tr>\n",
       "      <th>1997</th>\n",
       "      <td>10</td>\n",
       "      <td>9990</td>\n",
       "      <td>2609.0</td>\n",
       "      <td>9992.0</td>\n",
       "      <td>30.687080</td>\n",
       "      <td>9984.075291</td>\n",
       "      <td>206.870799</td>\n",
       "      <td>0.059306</td>\n",
       "      <td>206.930105</td>\n",
       "    </tr>\n",
       "    <tr>\n",
       "      <th>1998</th>\n",
       "      <td>5</td>\n",
       "      <td>9995</td>\n",
       "      <td>2609.0</td>\n",
       "      <td>9995.0</td>\n",
       "      <td>29.856995</td>\n",
       "      <td>9987.289654</td>\n",
       "      <td>497.139890</td>\n",
       "      <td>0.077142</td>\n",
       "      <td>497.217032</td>\n",
       "    </tr>\n",
       "  </tbody>\n",
       "</table>\n",
       "<p>1999 rows × 9 columns</p>\n",
       "</div>"
      ]
     },
     "execution_count": 36,
     "metadata": {},
     "output_type": "execute_result"
    }
   ],
   "execution_count": 36
  },
  {
   "metadata": {
    "ExecuteTime": {
     "end_time": "2024-06-07T01:59:34.781852Z",
     "start_time": "2024-06-07T01:59:34.765234Z"
    }
   },
   "cell_type": "code",
   "source": [
    "statistics = convolution_results.describe()\n",
    "statistics"
   ],
   "id": "e5cf1b8f56662de7",
   "outputs": [
    {
     "data": {
      "text/plain": [
       "                l1           l2           b1           b2  l1 estimate  \\\n",
       "count  1999.000000  1999.000000  1999.000000  1999.000000  1999.000000   \n",
       "mean   5000.000000  5000.000000  6252.364182  6280.677839  4961.290544   \n",
       "std    2886.029568  2886.029568  2151.135928  2151.124790  2900.047622   \n",
       "min       5.000000     5.000000  2608.000000  2610.000000    29.856995   \n",
       "25%    2502.500000  2502.500000  4379.500000  4424.000000  2436.954536   \n",
       "50%    5000.000000  5000.000000  6267.000000  6266.000000  4981.033443   \n",
       "75%    7497.500000  7497.500000  8108.500000  8151.500000  7463.789207   \n",
       "max    9995.000000  9995.000000  9996.000000  9995.000000  9988.084413   \n",
       "\n",
       "       l2 estimate     l1 error     l2 error   errors sum  \n",
       "count  1999.000000  1999.000000  1999.000000  1999.000000  \n",
       "mean   4999.461588     2.572643     2.355649     4.928292  \n",
       "std    2900.038770    13.104670    14.034716    18.914970  \n",
       "min      30.651754     0.001114     0.000014     0.548447  \n",
       "25%    2496.532149     0.419584     0.161758     1.307478  \n",
       "50%    4979.685293     1.034418     0.335076     2.100372  \n",
       "75%    7522.174681     2.402075     0.608420     3.311992  \n",
       "max    9987.289654   497.139890   513.035077   513.104267  "
      ],
      "text/html": [
       "<div>\n",
       "<style scoped>\n",
       "    .dataframe tbody tr th:only-of-type {\n",
       "        vertical-align: middle;\n",
       "    }\n",
       "\n",
       "    .dataframe tbody tr th {\n",
       "        vertical-align: top;\n",
       "    }\n",
       "\n",
       "    .dataframe thead th {\n",
       "        text-align: right;\n",
       "    }\n",
       "</style>\n",
       "<table border=\"1\" class=\"dataframe\">\n",
       "  <thead>\n",
       "    <tr style=\"text-align: right;\">\n",
       "      <th></th>\n",
       "      <th>l1</th>\n",
       "      <th>l2</th>\n",
       "      <th>b1</th>\n",
       "      <th>b2</th>\n",
       "      <th>l1 estimate</th>\n",
       "      <th>l2 estimate</th>\n",
       "      <th>l1 error</th>\n",
       "      <th>l2 error</th>\n",
       "      <th>errors sum</th>\n",
       "    </tr>\n",
       "  </thead>\n",
       "  <tbody>\n",
       "    <tr>\n",
       "      <th>count</th>\n",
       "      <td>1999.000000</td>\n",
       "      <td>1999.000000</td>\n",
       "      <td>1999.000000</td>\n",
       "      <td>1999.000000</td>\n",
       "      <td>1999.000000</td>\n",
       "      <td>1999.000000</td>\n",
       "      <td>1999.000000</td>\n",
       "      <td>1999.000000</td>\n",
       "      <td>1999.000000</td>\n",
       "    </tr>\n",
       "    <tr>\n",
       "      <th>mean</th>\n",
       "      <td>5000.000000</td>\n",
       "      <td>5000.000000</td>\n",
       "      <td>6252.364182</td>\n",
       "      <td>6280.677839</td>\n",
       "      <td>4961.290544</td>\n",
       "      <td>4999.461588</td>\n",
       "      <td>2.572643</td>\n",
       "      <td>2.355649</td>\n",
       "      <td>4.928292</td>\n",
       "    </tr>\n",
       "    <tr>\n",
       "      <th>std</th>\n",
       "      <td>2886.029568</td>\n",
       "      <td>2886.029568</td>\n",
       "      <td>2151.135928</td>\n",
       "      <td>2151.124790</td>\n",
       "      <td>2900.047622</td>\n",
       "      <td>2900.038770</td>\n",
       "      <td>13.104670</td>\n",
       "      <td>14.034716</td>\n",
       "      <td>18.914970</td>\n",
       "    </tr>\n",
       "    <tr>\n",
       "      <th>min</th>\n",
       "      <td>5.000000</td>\n",
       "      <td>5.000000</td>\n",
       "      <td>2608.000000</td>\n",
       "      <td>2610.000000</td>\n",
       "      <td>29.856995</td>\n",
       "      <td>30.651754</td>\n",
       "      <td>0.001114</td>\n",
       "      <td>0.000014</td>\n",
       "      <td>0.548447</td>\n",
       "    </tr>\n",
       "    <tr>\n",
       "      <th>25%</th>\n",
       "      <td>2502.500000</td>\n",
       "      <td>2502.500000</td>\n",
       "      <td>4379.500000</td>\n",
       "      <td>4424.000000</td>\n",
       "      <td>2436.954536</td>\n",
       "      <td>2496.532149</td>\n",
       "      <td>0.419584</td>\n",
       "      <td>0.161758</td>\n",
       "      <td>1.307478</td>\n",
       "    </tr>\n",
       "    <tr>\n",
       "      <th>50%</th>\n",
       "      <td>5000.000000</td>\n",
       "      <td>5000.000000</td>\n",
       "      <td>6267.000000</td>\n",
       "      <td>6266.000000</td>\n",
       "      <td>4981.033443</td>\n",
       "      <td>4979.685293</td>\n",
       "      <td>1.034418</td>\n",
       "      <td>0.335076</td>\n",
       "      <td>2.100372</td>\n",
       "    </tr>\n",
       "    <tr>\n",
       "      <th>75%</th>\n",
       "      <td>7497.500000</td>\n",
       "      <td>7497.500000</td>\n",
       "      <td>8108.500000</td>\n",
       "      <td>8151.500000</td>\n",
       "      <td>7463.789207</td>\n",
       "      <td>7522.174681</td>\n",
       "      <td>2.402075</td>\n",
       "      <td>0.608420</td>\n",
       "      <td>3.311992</td>\n",
       "    </tr>\n",
       "    <tr>\n",
       "      <th>max</th>\n",
       "      <td>9995.000000</td>\n",
       "      <td>9995.000000</td>\n",
       "      <td>9996.000000</td>\n",
       "      <td>9995.000000</td>\n",
       "      <td>9988.084413</td>\n",
       "      <td>9987.289654</td>\n",
       "      <td>497.139890</td>\n",
       "      <td>513.035077</td>\n",
       "      <td>513.104267</td>\n",
       "    </tr>\n",
       "  </tbody>\n",
       "</table>\n",
       "</div>"
      ]
     },
     "execution_count": 37,
     "metadata": {},
     "output_type": "execute_result"
    }
   ],
   "execution_count": 37
  },
  {
   "metadata": {
    "ExecuteTime": {
     "end_time": "2024-06-07T01:55:04.372064Z",
     "start_time": "2024-06-07T01:55:03.768085Z"
    }
   },
   "cell_type": "code",
   "source": [
    "with pd.ExcelWriter(f'artifacts/{experiment_id}.xlsx') as writer:\n",
    "    convolution_results.to_excel(writer, sheet_name='Conclusions table')\n",
    "    statistics.to_excel(writer, sheet_name='Statistics table')\n",
    "    experiment_metadata.to_excel(writer, sheet_name='Metadata')"
   ],
   "id": "2eaccee0c1ac60f0",
   "outputs": [],
   "execution_count": 35
  },
  {
   "metadata": {
    "ExecuteTime": {
     "end_time": "2024-06-07T01:55:04.375418Z",
     "start_time": "2024-06-07T01:55:04.373061Z"
    }
   },
   "cell_type": "code",
   "source": "",
   "id": "be02df95fc0be3f4",
   "outputs": [],
   "execution_count": 35
  }
 ],
 "metadata": {
  "kernelspec": {
   "display_name": "Python 3",
   "language": "python",
   "name": "python3"
  },
  "language_info": {
   "codemirror_mode": {
    "name": "ipython",
    "version": 2
   },
   "file_extension": ".py",
   "mimetype": "text/x-python",
   "name": "python",
   "nbconvert_exporter": "python",
   "pygments_lexer": "ipython2",
   "version": "2.7.6"
  }
 },
 "nbformat": 4,
 "nbformat_minor": 5
}
